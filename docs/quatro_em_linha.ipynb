{
  "cells": [
    {
      "cell_type": "markdown",
      "id": "7e263510-660c-4965-a16a-ac4347a35183",
      "metadata": {},
      "source": [
        "Connected Four - Projeto de Inteligência Artificial"
      ]
    },
    {
      "cell_type": "raw",
      "id": "46a72231-5ac2-4a57-9a67-6bad1a5cdd6e",
      "metadata": {},
      "source": [
        "Criado pelos alunos Gonçalo Correia, Pedro Gilvaia e Rita Moreira"
      ]
    },
    {
      "cell_type": "raw",
      "id": "b4b3014f-d6a8-40b0-b828-871979591bef",
      "metadata": {},
      "source": [
        "Connect Four é um jogo de estratégia para dois jogadores, semelhante ao jogo do galo. É jogado com 42 fichas (geralmente 21 fichas vermelhas para um jogador e 21 fichas pretas para o outro) e uma grelha vertical com 7 colunas. Cada coluna pode conter, no máximo, 6 fichas. Os dois jogadores jogam alternadamente. Uma jogada consiste em um jogador lançar uma das suas fichas para a coluna da sua escolha. Quando uma ficha é lançada para uma coluna, ela cai até atingir o fundo ou a ficha que se encontra no topo dessa coluna. Um jogador vence ao criar uma disposição na qual pelo menos quatro das suas fichas estejam alinhadas numa fileira, coluna ou diagonal."
      ]
    },
    {
      "cell_type": "raw",
      "id": "30664b05-13f2-47de-a5af-67115a3b1730",
      "metadata": {},
      "source": [
        "A primeira parte do trabalho é a implementação do Monte Carlo Tree Search (MCTS). Para isso, é necessário ter um código base para o próprio jogo, que já simule um jogo Humano vs. Humano. A partir daí, é desenvolvido o modo Humano vs. Computador e Computador vs. Computador. Abaixo é apresentado o código base detalhado."
      ]
    },
    {
      "cell_type": "raw",
      "id": "b0473c93",
      "metadata": {},
      "source": [
        "import de módulo math e criação de variáveis globais relativas ao número de linhas e colunas"
      ]
    },
    {
      "cell_type": "code",
      "execution_count": null,
      "id": "78637a23",
      "metadata": {},
      "outputs": [],
      "source": [
        "import math\n",
        "ROW_COUNT = 6\n",
        "CLUMN_COUNT = 7"
      ]
    },
    {
      "cell_type": "raw",
      "id": "57c7fb20-c459-4d22-ae44-56d3823ffed3",
      "metadata": {},
      "source": [
        "Criação de um tabuleiro 6x7, que recrie o tabuleiro original:"
      ]
    },
    {
      "cell_type": "code",
      "execution_count": 2,
      "id": "0fb0f436-f5b7-4107-bad7-d653dbc8d99d",
      "metadata": {
        "trusted": true
      },
      "outputs": [],
      "source": [
        "def create_board():\n",
        "    board = [[0 for _ in range(7)] for _ in range(6)]\n",
        "    return board"
      ]
    },
    {
      "cell_type": "raw",
      "id": "f320c48e-f02a-4444-a3d9-b98b22525471",
      "metadata": {},
      "source": [
        "Função que exiba o tabuleiro no terminal, com números auxiliares para a escolha da coluna, e pequenos detalhes estéticos:"
      ]
    },
    {
      "cell_type": "code",
      "execution_count": null,
      "id": "6f472d1f-ca4c-4b4b-8b2a-624c9d9891b9",
      "metadata": {
        "trusted": true
      },
      "outputs": [],
      "source": [
        "def print_board(board):\n",
        "    print(\" 0 1 2 3 4 5 6\")\n",
        "    print(\"---------------\")\n",
        "    for row in reversed(board):\n",
        "        print(\"|\" + \"|\".join(f\"{cell if cell != 0 else ' '}\" for cell in row) + \"|\")\n",
        "    print(\"---------------\")"
      ]
    },
    {
      "cell_type": "raw",
      "id": "ead63a43-c6c2-4c59-a548-6d5a1d98b89f",
      "metadata": {},
      "source": [
        "Função que verifica se a jogada é válida, isto é, se está dentro dos limites do tabuleiro, e se a coluna não está preenchida:"
      ]
    },
    {
      "cell_type": "code",
      "execution_count": null,
      "id": "d07424f7-f792-40ed-94cc-be40e68218ad",
      "metadata": {
        "trusted": true
      },
      "outputs": [],
      "source": [
        "def is_valid(board,col):\n",
        "    return board[ROW_COUNT-1][col] == 0"
      ]
    },
    {
      "cell_type": "raw",
      "id": "9f4b027a-d2e1-4d34-b137-a108a007bd78",
      "metadata": {},
      "source": [
        "Função que insere a peça do jogador atual na coluna escolhida, e na linha disponível:"
      ]
    },
    {
      "cell_type": "code",
      "execution_count": null,
      "id": "2b973c67-e43b-4be0-a497-db8d24c6df05",
      "metadata": {
        "trusted": true
      },
      "outputs": [],
      "source": [
        "def drop_piece(board, row, col, piece):\n",
        "    board[row][col] = piece"
      ]
    },
    {
      "cell_type": "raw",
      "id": "c24fb085-f2bc-4ac8-9b0a-b4a834da903b",
      "metadata": {},
      "source": [
        "Função que verifica se o jogador ganhou o jogo com a jogada atual:"
      ]
    },
    {
      "cell_type": "code",
      "execution_count": 5,
      "id": "8dc5c5c8-4302-49fd-bada-3c0948d4bfa4",
      "metadata": {
        "trusted": true
      },
      "outputs": [],
      "source": [
        "def check_win(board, piece):\n",
        "    # verifica horizontalmente\n",
        "    for row in range(6):\n",
        "        for col in range(7 - 3):\n",
        "            if board[row][col] == piece and board[row][col+1] == piece and \\\n",
        "               board[row][col+2] == piece and board[row][col+3] == piece:\n",
        "                return True\n",
        "    \n",
        "    # verifica verticalmente\n",
        "    for col in range(7):\n",
        "        for row in range(6 - 3):\n",
        "            if board[row][col] == piece and board[row+1][col] == piece and \\\n",
        "               board[row+2][col] == piece and board[row+3][col] == piece:\n",
        "                return True\n",
        "    \n",
        "    # verifica ambas as diagonais\n",
        "    for row in range(3, 6):\n",
        "        for col in range(7 - 3):\n",
        "            if board[row][col] == piece and board[row-1][col+1] == piece and \\\n",
        "               board[row-2][col+2] == piece and board[row-3][col+3] == piece:\n",
        "                return True\n",
        "    \n",
        "    for row in range(6 - 3):\n",
        "        for col in range(7 - 3):\n",
        "            if board[row][col] == piece and board[row+1][col+1] == piece and \\\n",
        "               board[row+2][col+2] == piece and board[row+3][col+3] == piece:\n",
        "                return True\n",
        "    \n",
        "    return False"
      ]
    },
    {
      "cell_type": "raw",
      "id": "a8656bfa-f064-4000-ac7a-90165472c36a",
      "metadata": {},
      "source": [
        "Função para começar um jogo, onde o user escolhe o modo:"
      ]
    }
  ],
  "metadata": {
    "kernelspec": {
      "display_name": "Python (Pyodide)",
      "language": "python",
      "name": "python"
    },
    "language_info": {
      "codemirror_mode": {
        "name": "python",
        "version": 3
      },
      "file_extension": ".py",
      "mimetype": "text/x-python",
      "name": "python",
      "nbconvert_exporter": "python",
      "pygments_lexer": "ipython3",
      "version": "3.8"
    }
  },
  "nbformat": 4,
  "nbformat_minor": 5
}
