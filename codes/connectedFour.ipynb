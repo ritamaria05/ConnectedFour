{
 "cells": [
  {
   "cell_type": "markdown",
   "metadata": {},
   "source": [
    "# Connected Four - Projeto de Inteligência Artificial"
   ]
  },
  {
   "cell_type": "markdown",
   "metadata": {},
   "source": [
    "Realizado pelos alunos:\n",
    "- Rita Moreira (202303885);\n",
    "- Pedro Gilvaia (202306975);\n",
    "- Gonçalo Correia (202208527)."
   ]
  },
  {
   "cell_type": "markdown",
   "metadata": {},
   "source": [
    "## 1. Introdução"
   ]
  },
  {
   "cell_type": "markdown",
   "metadata": {},
   "source": [
    "O objetivo deste projeto é implementar o algoritmo Monte Carlo Tree Search (MCTS) e uma árvore de decisão para cada dataset dado (iris.csv e o dataset gerado usando o MCTS), usando o algoritmo ID3. Usando esses procedimentos, será então criado um programa capaz de jogar o Quatro em Linha (Connected Four) contra um humano.\n",
    "Este notebook documenta todo o processo de implementação do jogo, incluindo: \n",
    "- explicações das decisões tomadas em cada etapa;\n",
    "- detalhes da geração de dados com MCTS;\n",
    "- Treino da árvore de decisão com ID3;\n",
    "- Integração dos algoritmos no jogo;\n",
    "- Discussão de resultados."
   ]
  },
  {
   "cell_type": "markdown",
   "metadata": {},
   "source": [
    "## 2. Descrição do Problema"
   ]
  },
  {
   "cell_type": "markdown",
   "metadata": {},
   "source": [
    "O Quatro em Linha é um jogo de estratégia de dois jogadores. São usadas 42 peças, 21 para cada jogador, e um tabuleiro vertical com 7 colunas e 6 filas. A cada jogada, o jogador atual \"deixa cair\" a sua peça numa coluna à sua escolha, desde que não esteja cheia. Esta cai na linha disponível. Um jogador ganha quando 4 das suas peças formarem uma linha horizontal, vertical ou diagonal consecutiva."
   ]
  },
  {
   "cell_type": "markdown",
   "metadata": {},
   "source": [
    "### 2.1. Implementação do Jogo"
   ]
  },
  {
   "cell_type": "markdown",
   "metadata": {},
   "source": [
    "Abaixo segue-se a implementação das funcionalidades do jogo (connected_four.py). Mais tarde, será apresentada a implementação do jogo em si (game.py), que utiliza todos os códigos trabalhados no projeto (connected_four.py, mcts.py e decision_tree_builder.py)."
   ]
  },
  {
   "cell_type": "markdown",
   "metadata": {},
   "source": [
    "#### __connected_four.py__"
   ]
  },
  {
   "cell_type": "markdown",
   "metadata": {},
   "source": [
    "Importações necessárias:"
   ]
  },
  {
   "cell_type": "code",
   "execution_count": null,
   "metadata": {},
   "outputs": [],
   "source": [
    "from copy import deepcopy\n",
    "import math"
   ]
  },
  {
   "cell_type": "markdown",
   "metadata": {},
   "source": [
    "A classe `GameMeta` funciona como um container de constantes e parâmetros globais que descrevem as regras básicas e convenções do jogo Connect Four na sua implementação. "
   ]
  },
  {
   "cell_type": "code",
   "execution_count": null,
   "metadata": {},
   "outputs": [],
   "source": [
    "class GameMeta:\n",
    "    # dicionário que mapeia nomes de jogador para valores usados no jogo\n",
    "    PLAYERS = {'none': 0, 'one': 1, 'two': 2} \n",
    "    # dicionário que mapeia resultados possíveis de uma partida\n",
    "    OUTCOMES = {'none': 0, 'one': 1, 'two': 2, 'draw': 3}\n",
    "    # constante que representa \"infinito\" em pontuações ou limites\n",
    "    INF = float('inf')\n",
    "    # definição do tamanho do tabuleiro (ROWS x COLS)\n",
    "    ROWS = 6\n",
    "    COLS = 7"
   ]
  },
  {
   "cell_type": "markdown",
   "metadata": {},
   "source": [
    "A classe `MCTSMeta` define o coeficiente de exploração (c). Tem como papel balancear o teste de ramos menos visitados para descobrir se possuem bons resultados (exploit) e a escolha do ramo com maior valor médio $\\frac{Q}{N}$. Um c grande amplia a exploração de nós (explore) e um c pequeno prioriza o valor $\\frac{Q}{N}$ (exploit)."
   ]
  },
  {
   "cell_type": "code",
   "execution_count": null,
   "metadata": {},
   "outputs": [],
   "source": [
    "class MCTSMeta:\n",
    "    EXPLORATION = 1.4"
   ]
  },
  {
   "cell_type": "markdown",
   "metadata": {},
   "source": [
    "A classe `ConnectState` representa o estado de um jogo. A função `__init__` é um construtor da classe, e inicializa o tabuleiro, o jogador atual, a altura de cada coluna e a última jogada feita."
   ]
  },
  {
   "cell_type": "markdown",
   "metadata": {},
   "source": [
    "Possui atributos como:\n",
    "- `board`: matriz 6x7 com valores 0 (vazio), 1(jogador 1) e 2 (jogador 2);\n",
    "- `to_play`: identificador do jogador que jogará a seguir;\n",
    "- `height`: lista de índices da próxima linha livre em cada coluna\n",
    "- `last_played`: par [linha, coluna] da última jogada."
   ]
  },
  {
   "cell_type": "code",
   "execution_count": null,
   "metadata": {},
   "outputs": [],
   "source": [
    "class ConnectState:\n",
    "    def __init__(self):\n",
    "        # Inicializa o tabuleiro com zeros (vazio)\n",
    "        self.board = [[0] * GameMeta.COLS for _ in range(GameMeta.ROWS)]\n",
    "        # Inicializa o jogador atual como 'one' (1)\n",
    "        self.to_play = GameMeta.PLAYERS['one']\n",
    "        # Inicializa a altura de cada coluna como o número de linhas menos 1 (posição inicial)\n",
    "        self.height = [GameMeta.ROWS - 1] * GameMeta.COLS\n",
    "        # Inicializa a lista de ações jogadas como nula\n",
    "        self.last_played = []\n"
   ]
  },
  {
   "cell_type": "markdown",
   "metadata": {},
   "source": [
    "A função `get_board` retorna uma cópia do tabuleiro atual."
   ]
  },
  {
   "cell_type": "code",
   "execution_count": null,
   "metadata": {},
   "outputs": [],
   "source": [
    "def get_board(self):\n",
    "        return deepcopy(self.board)"
   ]
  },
  {
   "cell_type": "markdown",
   "metadata": {},
   "source": [
    "A função `move` executa um movimento numa coluna específica e atualiza o estado de jogo. Se a coluna estiver cheia, surge um `ValueError`. Possui como parâmetro a coluna onde o jogador quer jogar."
   ]
  },
  {
   "cell_type": "code",
   "execution_count": null,
   "metadata": {},
   "outputs": [],
   "source": [
    "def move(self, col):\n",
    "        # Verifica se a coluna está cheia\n",
    "        if self.height[col] < 0:\n",
    "            raise ValueError(f\"Coluna {col} já está cheia!\")  # Ou apenas retorna False ou trata o erro de forma apropriada\n",
    "        self.board[self.height[col]][col] = self.to_play\n",
    "        self.last_played = [self.height[col], col]\n",
    "        self.height[col] -= 1\n",
    "        self.to_play = GameMeta.PLAYERS['two'] if self.to_play == GameMeta.PLAYERS['one'] else GameMeta.PLAYERS['one']"
   ]
  },
  {
   "cell_type": "markdown",
   "metadata": {},
   "source": [
    "A função `get_legal_moves` retorna uma lista dos índices das colunas onde ainda é possível jogar, isto é, que não estejam cheias. "
   ]
  },
  {
   "cell_type": "code",
   "execution_count": null,
   "metadata": {},
   "outputs": [],
   "source": [
    "def get_legal_moves(self):\n",
    "        return [col for col in range(GameMeta.COLS) if self.board[0][col] == 0]"
   ]
  },
  {
   "cell_type": "markdown",
   "metadata": {},
   "source": [
    "A função `check_win` verifica se o jogador atual venceu. Se sim, retorna o código do mesmo (1 ou 2, dependendo do jogador). Se não houver vitória, retorna 0."
   ]
  },
  {
   "cell_type": "code",
   "execution_count": null,
   "metadata": {},
   "outputs": [],
   "source": [
    "def check_win(self):\n",
    "        if len(self.last_played) > 0 and self.check_win_from(self.last_played[0], self.last_played[1]):\n",
    "            return self.board[self.last_played[0]][self.last_played[1]]\n",
    "        return 0"
   ]
  },
  {
   "cell_type": "markdown",
   "metadata": {},
   "source": [
    "A função `check_win_from` verifica se há \"quatro em linha\" a partir da posição (row, col) em todas as direções: horizontal, vertical, diagonal principal e diagonal secundária. Se sim, retorna True. Caso contrário, retorna False. Tem como parâmetros a linha (`row`) e a coluna (`col`) da última jogada."
   ]
  },
  {
   "cell_type": "code",
   "execution_count": null,
   "metadata": {},
   "outputs": [],
   "source": [
    "def check_win_from(self, row, col):\n",
    "        player = self.board[row][col]\n",
    "        consecutive = 1\n",
    "        # Check horizontal\n",
    "        tmprow = row\n",
    "        while tmprow + 1 < GameMeta.ROWS and self.board[tmprow + 1][col] == player:\n",
    "            consecutive += 1\n",
    "            tmprow += 1\n",
    "        tmprow = row\n",
    "        while tmprow - 1 >= 0 and self.board[tmprow - 1][col] == player:\n",
    "            consecutive += 1\n",
    "            tmprow -= 1\n",
    "\n",
    "        if consecutive >= 4:\n",
    "            return True\n",
    "\n",
    "        # Check vertical\n",
    "        consecutive = 1\n",
    "        tmpcol = col\n",
    "        while tmpcol + 1 < GameMeta.COLS and self.board[row][tmpcol + 1] == player:\n",
    "            consecutive += 1\n",
    "            tmpcol += 1\n",
    "        tmpcol = col\n",
    "        while tmpcol - 1 >= 0 and self.board[row][tmpcol - 1] == player:\n",
    "            consecutive += 1\n",
    "            tmpcol -= 1\n",
    "\n",
    "        if consecutive >= 4:\n",
    "            return True\n",
    "\n",
    "        # Check diagonal\n",
    "        consecutive = 1\n",
    "        tmprow = row\n",
    "        tmpcol = col\n",
    "        while tmprow + 1 < GameMeta.ROWS and tmpcol + 1 < GameMeta.COLS and self.board[tmprow + 1][tmpcol + 1] == player:\n",
    "            consecutive += 1\n",
    "            tmprow += 1\n",
    "            tmpcol += 1\n",
    "        tmprow = row\n",
    "        tmpcol = col\n",
    "        while tmprow - 1 >= 0 and tmpcol - 1 >= 0 and self.board[tmprow - 1][tmpcol - 1] == player:\n",
    "            consecutive += 1\n",
    "            tmprow -= 1\n",
    "            tmpcol -= 1\n",
    "\n",
    "        if consecutive >= 4:\n",
    "            return True\n",
    "\n",
    "        # Check anti-diagonal\n",
    "        consecutive = 1\n",
    "        tmprow = row\n",
    "        tmpcol = col\n",
    "        while tmprow + 1 < GameMeta.ROWS and tmpcol - 1 >= 0 and self.board[tmprow + 1][tmpcol - 1] == player:\n",
    "            consecutive += 1\n",
    "            tmprow += 1\n",
    "            tmpcol -= 1\n",
    "        tmprow = row\n",
    "        tmpcol = col\n",
    "        while tmprow - 1 >= 0 and tmpcol + 1 < GameMeta.COLS and self.board[tmprow - 1][tmpcol + 1] == player:\n",
    "            consecutive += 1\n",
    "            tmprow -= 1\n",
    "            tmpcol += 1\n",
    "\n",
    "        if consecutive >= 4:\n",
    "            return True\n",
    "\n",
    "        return False\n"
   ]
  },
  {
   "cell_type": "markdown",
   "metadata": {},
   "source": [
    "A função `game_over` verifica se o jogo acabou, retornando um valor booleano consoante o resultado."
   ]
  },
  {
   "cell_type": "code",
   "execution_count": null,
   "metadata": {},
   "outputs": [],
   "source": [
    "def game_over(self):\n",
    "        return self.check_win() or len(self.get_legal_moves()) == 0"
   ]
  },
  {
   "cell_type": "markdown",
   "metadata": {},
   "source": [
    "A função `get_outcome` retorna o código de resultado (outcome) da partida. Se for vitória retorna 1 ou 2, dependendo do jogador vencedor. Se for empate retorna 3. "
   ]
  },
  {
   "cell_type": "code",
   "execution_count": null,
   "metadata": {},
   "outputs": [],
   "source": [
    "def get_outcome(self):\n",
    "        if len(self.get_legal_moves()) == 0 and self.check_win() == 0:\n",
    "            return GameMeta.OUTCOMES['draw']\n",
    "\n",
    "        return GameMeta.OUTCOMES['one'] if self.check_win() == GameMeta.PLAYERS['one'] else GameMeta.OUTCOMES['two']\n"
   ]
  },
  {
   "cell_type": "markdown",
   "metadata": {},
   "source": [
    "Por último, a função `print` exibe o tabuleiro no terminal e substitui o número que está na matriz (tabuleiro) pela peça de jogo ou espaço vazio:\n",
    "- ' ' (espaço) substitui o 0;\n",
    "- X substitui o 1;\n",
    "- O substitui o 2."
   ]
  },
  {
   "cell_type": "code",
   "execution_count": null,
   "metadata": {},
   "outputs": [],
   "source": [
    "\n",
    "def print(self):\n",
    "    print('=============================')\n",
    "\n",
    "    for row in range(GameMeta.ROWS):\n",
    "        for col in range(GameMeta.COLS):\n",
    "            print('| {} '.format('X' if self.board[row][col] == 1 else 'O' if self.board[row][col] == 2 else ' '), end='')\n",
    "        print('|')\n",
    "\n",
    "    print('=============================')"
   ]
  },
  {
   "cell_type": "markdown",
   "metadata": {},
   "source": [
    "## 3. Metodologia e sua implementação"
   ]
  },
  {
   "cell_type": "markdown",
   "metadata": {},
   "source": [
    "### 3.1. Monte Carlo Tree Search (MCTS)"
   ]
  },
  {
   "cell_type": "markdown",
   "metadata": {},
   "source": [
    "O MCTS é um algoritmo de busca adversarial que leva em consideração as alterações de estado causadas por um adversário nas etapas subsequentes. A sua implementação utiliza o critério Upper Confidence Bound (UCT) para avaliar cada ramo de uma árvore, de fórmula:\n",
    "$$\n",
    "UCT = \\frac{Q}{N} + c\\sqrt{\\frac{In{N_{parent}}}{N}}\n",
    "$$\n",
    "O MCTS tem quatro fases:\n",
    "- Seleção: Começa na raiz e, em cada nó, escolhe o filho que maximiza o UCT até atingir um nó ainda não totalmente expandido;\n",
    "- Expansão:  A partir do nó selecionado, gera um dos estados-filho ainda não representados na árvore, adicionando-o como novo nó;\n",
    "- Simulação: A partir desse nó recém-criado, executa um jogo até ao fim (playout), usando uma política aleatória ou heurística, obtendo um resultado (vitória/derrota);\n",
    "- Retropropagação (Backpropagation): Propaga o resultado da simulação de volta à raiz, atualizando em cada nó visitado. Nesses nós, a contagem de visitas aumenta 1 valor e contagem de vitórias aumenta o valor do resultado (0 se perdeu, 1 se ganhou).\n"
   ]
  },
  {
   "cell_type": "markdown",
   "metadata": {},
   "source": [
    "#### __mcts.py__"
   ]
  },
  {
   "cell_type": "markdown",
   "metadata": {},
   "source": [
    "Importações necessárias:"
   ]
  },
  {
   "cell_type": "code",
   "execution_count": null,
   "metadata": {},
   "outputs": [],
   "source": [
    "import random\n",
    "import time\n",
    "import math\n",
    "from copy import deepcopy\n",
    "\n",
    "from connected_four import ConnectState, GameMeta, MCTSMeta"
   ]
  },
  {
   "cell_type": "markdown",
   "metadata": {},
   "source": [
    "A classe Node representa um nó de uma árvore de pesquisa Monte Carlo. A função `__init__` inicializa um nó e seus atributos:\n",
    "- `move`: jogada que levou ao nó atual;\n",
    "- `parent`: nó pai da árvore (a razi tem parent=None);\n",
    "- `N`: número de visitas;\n",
    "- `Q`: Soma das recompensas (vitórias) obtidas deste nó;\n",
    "- `children`: mapeia jogadas para nós-filho;\n",
    "- `outcome`: estado de resultado no nó (0=nenhum, 1=jogador1, 2=jogador2)."
   ]
  },
  {
   "cell_type": "code",
   "execution_count": null,
   "metadata": {},
   "outputs": [],
   "source": [
    "class Node:\n",
    "    def __init__(self, move, parent):\n",
    "        self.move = move\n",
    "        self.parent = parent\n",
    "        self.N = 0\n",
    "        self.Q = 0\n",
    "        self.children = {}\n",
    "        self.outcome = GameMeta.PLAYERS['none']\n"
   ]
  },
  {
   "cell_type": "markdown",
   "metadata": {},
   "source": [
    "A função `add_children` adiciona nós-filho a partir de um dicionário (parâmetro)."
   ]
  },
  {
   "cell_type": "code",
   "execution_count": null,
   "metadata": {},
   "outputs": [],
   "source": [
    "def add_children(self, children: dict) -> None:\n",
    "        for child in children:\n",
    "            self.children[child.move] = child"
   ]
  },
  {
   "cell_type": "markdown",
   "metadata": {},
   "source": [
    "A função `get_exploration` calcula dinamicamente e retorna o coeficiente da exploração `c` para UCT. Baseia-se no número de visitas do nó pai e o valor diminui consoante a raiz quadrada desse número, levando a uma exploração maior no início e mais leve no final."
   ]
  },
  {
   "cell_type": "code",
   "execution_count": null,
   "metadata": {},
   "outputs": [],
   "source": [
    "def get_exploration(self) -> float:\n",
    "        c0 = MCTSMeta.EXPLORATION #1.4\n",
    "        if self.parent is not None:\n",
    "            root_visits = self.parent.N \n",
    "            alpha = 0.2\n",
    "            return c0 / (1 +  alpha * math.log(1 + root_visits))\n",
    "        "
   ]
  },
  {
   "cell_type": "markdown",
   "metadata": {},
   "source": [
    "A função `value` calcula e retorna o valor UCT do nó para a seleção. Utiliza como parâmetro o coeficiente inicial de exploração: 1.4."
   ]
  },
  {
   "cell_type": "code",
   "execution_count": null,
   "metadata": {},
   "outputs": [],
   "source": [
    "\n",
    "def value(self, explore: float = MCTSMeta.EXPLORATION):\n",
    "    if self.N == 0:\n",
    "        return GameMeta.INF # forçar exploração de nós não visitados\n",
    "    else: #dynamic c\n",
    "        c_now = self.get_exploration()\n",
    "        return self.Q / self.N + c_now * math.sqrt(math.log(self.parent.N) / self.N)"
   ]
  },
  {
   "cell_type": "markdown",
   "metadata": {},
   "source": [
    "A classe MCTS implementa o algoritmo para o Connected Four. A função `__init__` inicializa o MCTS com um estado inicial, que provem da classe ConnectedState.  Tem como atributos:\n",
    "- `root_state`: estado de jogo na raiz;\n",
    "- `root`: nó raiz da árvore de busca;\n",
    "- `run_time`: tempo gasto na última pesquisa (segundos de CPU);\n",
    "- `num_rollouts`: número de simulações executadas na última pesquisa."
   ]
  },
  {
   "cell_type": "code",
   "execution_count": null,
   "metadata": {},
   "outputs": [],
   "source": [
    "class MCTS:\n",
    "    def __init__(self, state=ConnectState()):\n",
    "        self.root_state = deepcopy(state)\n",
    "        self.root = Node(None, None)\n",
    "        self.run_time = 0\n",
    "        self.node_count = 0\n",
    "        self.num_rollouts = 0"
   ]
  },
  {
   "cell_type": "markdown",
   "metadata": {},
   "source": [
    "A primeira fase do MCTS é a seleção, representada pela função `select_node`. Esta seleciona um nó a ser expandido com base no UCT, até que um nó não visitado seja encontrado ou o jogo acabe. Retorna um tuplo, com o nó selecionado e o estado de jogo."
   ]
  },
  {
   "cell_type": "code",
   "execution_count": null,
   "metadata": {},
   "outputs": [],
   "source": [
    "def select_node(self) -> tuple:\n",
    "        node = self.root\n",
    "        state = deepcopy(self.root_state)\n",
    "\n",
    "        # Se o nó não tiver filhos, expande-o\n",
    "        while len(node.children) != 0:\n",
    "            # escolher o filho com maior valor UCT\n",
    "            children = node.children.values()\n",
    "            max_value = max(children, key=lambda n: n.value()).value()\n",
    "            max_nodes = [n for n in children if n.value() == max_value]\n",
    "\n",
    "            node = random.choice(max_nodes)\n",
    "            state.move(node.move)\n",
    "\n",
    "            if node.N == 0:\n",
    "                return node, state\n",
    "        # se o nó não for terminal, expande-o\n",
    "        if self.expand(node, state):\n",
    "            node = random.choice(list(node.children.values()))\n",
    "            state.move(node.move)\n",
    "\n",
    "        return node, state"
   ]
  },
  {
   "cell_type": "markdown",
   "metadata": {},
   "source": [
    "A segunda fase é a expansão. A função `expand` cria filhos para o nó pai com base nas jogadas disponíveis. Se o estado for terminal, i.e., não houver expansão possível, retorna False. Tem como parâmetros:\n",
    "- `parent` (Nó): nó pai a ser expandido;\n",
    "- `state` (ConnectState): estado atual do jogo."
   ]
  },
  {
   "cell_type": "code",
   "execution_count": null,
   "metadata": {},
   "outputs": [],
   "source": [
    "def expand(self, parent: Node, state: ConnectState) -> bool:\n",
    "        if state.game_over():\n",
    "            return False\n",
    "\n",
    "        children = [Node(move, parent) for move in state.get_legal_moves()]\n",
    "        parent.add_children(children)\n",
    "\n",
    "        return True"
   ]
  },
  {
   "cell_type": "markdown",
   "metadata": {},
   "source": [
    "A terceira fase é a de simulação. A função correspondente, `roll_out`, joga aleatoriamente até ao fim do jogo e retorna o resultado do mesmo. Utiliza como argumento o estado do jogo."
   ]
  },
  {
   "cell_type": "code",
   "execution_count": null,
   "metadata": {},
   "outputs": [],
   "source": [
    "def roll_out(self, state: ConnectState) -> int:\n",
    "        while not state.game_over():\n",
    "            moves = state.get_legal_moves()\n",
    "            player = state.to_play\n",
    "            opp = 3 - player\n",
    "            # Vitória imediata\n",
    "            for m in moves:\n",
    "                s2 = deepcopy(state)\n",
    "                s2.move(m)\n",
    "                if s2.game_over() and s2.get_outcome() == player:\n",
    "                    state.move(m)\n",
    "                    break\n",
    "            else:\n",
    "                # Bloqueio de ameaças adversárias\n",
    "                blocked = False\n",
    "                for m in moves:\n",
    "                    s2 = deepcopy(state)\n",
    "                    s2.move(m)\n",
    "                    for m2 in s2.get_legal_moves():\n",
    "                        s3 = deepcopy(s2)\n",
    "                        s3.move(m2)\n",
    "                        if s3.game_over() and s3.get_outcome() == opp:\n",
    "                            state.move(m)\n",
    "                            blocked = True\n",
    "                            break\n",
    "                    if blocked:\n",
    "                        break\n",
    "                if not blocked:\n",
    "                    state.move(random.choice(moves))\n",
    "\n",
    "        return state.get_outcome()"
   ]
  },
  {
   "cell_type": "markdown",
   "metadata": {},
   "source": [
    "A última fase é a de Backpropagation (retropropagação). Tem como função `back_propagate`, que atualiza os valores de `N` e `Q` dos nós visitados. Tem como parâmetros:\n",
    "- `node` (Nó): nó onde terminou a simulação;\n",
    "- `turn` (int): jogador que fez a última jogada;\n",
    "- `outcome` (int): resultado do jogo (1,2 ou 3)."
   ]
  },
  {
   "cell_type": "code",
   "execution_count": null,
   "metadata": {},
   "outputs": [],
   "source": [
    "def back_propagate(self, node: Node, turn: int, outcome: int) -> None:\n",
    "        #recompensa relativa ao jogador 'turn'\n",
    "        reward = 0 if outcome == turn else 1\n",
    "\n",
    "        while node is not None:\n",
    "            node.N += 1\n",
    "            node.Q += reward\n",
    "            node = node.parent\n",
    "            if outcome == GameMeta.OUTCOMES['draw']:\n",
    "                reward = 0\n",
    "            else:\n",
    "                reward = 1 - reward"
   ]
  },
  {
   "cell_type": "markdown",
   "metadata": {},
   "source": [
    "Para executar simulações do MCTS por um tempo limitado é usada a função `search`. Tem como parâmetro o `time_limit`, que guarda o temlo máximo de CPU escolhido para as simulações."
   ]
  },
  {
   "cell_type": "code",
   "execution_count": null,
   "metadata": {},
   "outputs": [],
   "source": [
    "def search(self, time_limit: int):\n",
    "        start_time = time.process_time()\n",
    "\n",
    "        num_rollouts = 0\n",
    "        while time.process_time() - start_time < time_limit:\n",
    "            node, state = self.select_node()\n",
    "            outcome = self.roll_out(state)\n",
    "            self.back_propagate(node, state.to_play, outcome)\n",
    "            num_rollouts += 1\n",
    "\n",
    "        run_time = time.process_time() - start_time\n",
    "        self.run_time = run_time\n",
    "        self.num_rollouts = num_rollouts"
   ]
  },
  {
   "cell_type": "markdown",
   "metadata": {},
   "source": [
    "É utilizada a função `best_move` para determinar qual é a melhor jogada de momento, com base em `N`, a partir da raiz. Se o jogo já não tiver acabado, retorna a coluna escolhida. Se sim, retorna -1."
   ]
  },
  {
   "cell_type": "code",
   "execution_count": null,
   "metadata": {},
   "outputs": [],
   "source": [
    "def best_move(self):\n",
    "        if self.root_state.game_over():\n",
    "            return -1\n",
    "\n",
    "        max_value = max(self.root.children.values(), key=lambda n: n.N).N\n",
    "        max_nodes = [n for n in self.root.children.values() if n.N == max_value]\n",
    "        best_child = random.choice(max_nodes)\n",
    "\n",
    "        return best_child.move"
   ]
  },
  {
   "cell_type": "markdown",
   "metadata": {},
   "source": [
    "Para a raiz ser atualizada, é usada a função `move`, de parâmetro a coluna onde o jogador jogou (`move`)."
   ]
  },
  {
   "cell_type": "code",
   "execution_count": null,
   "metadata": {},
   "outputs": [],
   "source": [
    "def move(self, move):\n",
    "        if move in self.root.children:\n",
    "            self.root_state.move(move)\n",
    "            self.root = self.root.children[move]\n",
    "            return\n",
    "\n",
    "        self.root_state.move(move)\n",
    "        self.root = Node(None, None)"
   ]
  },
  {
   "cell_type": "markdown",
   "metadata": {},
   "source": [
    "Por último, a função `statistics` retorna as estatísticas da última pesquisa:\n",
    "- o número de simulações feitas;\n",
    "- o tempo de CPU gasto nas mesmas."
   ]
  },
  {
   "cell_type": "code",
   "execution_count": null,
   "metadata": {},
   "outputs": [],
   "source": [
    "def statistics(self) -> tuple:\n",
    "    return self.num_rollouts, self.run_time"
   ]
  },
  {
   "cell_type": "markdown",
   "metadata": {},
   "source": [
    "### 3.2. Geração do dataset"
   ]
  },
  {
   "cell_type": "markdown",
   "metadata": {},
   "source": [
    "Usando o algoritmo MCTS, foi gerado um dataset para treinar uma árvore de decisão, abordada de seguida. Este código simula múltiplas partidas de Connect Four usando o MCTS para gerar um conjunto de exemplos (estado, movimento) que servirão de treino para a árvore de decisão ID3. Cada linha do dataset contém 42 atributos (o tabuleiro achatado) seguidos da coluna escolhida pelo MCTS como 'move'."
   ]
  },
  {
   "cell_type": "markdown",
   "metadata": {},
   "source": [
    "Importações necessárias:"
   ]
  },
  {
   "cell_type": "code",
   "execution_count": null,
   "metadata": {},
   "outputs": [],
   "source": [
    "import random\n",
    "import numpy as np\n",
    "from mcts import MCTS\n",
    "from connected_four import ConnectState, GameMeta, MCTSMeta"
   ]
  },
  {
   "cell_type": "markdown",
   "metadata": {},
   "source": [
    "A função `save_dataset` recebe a lista de tuplos `dataset` e o nome do ficheiro de saída, e salva-a como um ficheiro CSV com cabeçalho. O CSV gerado terá colunas 's0',...,'s41' e 'move'. O CSV gerado terá colunas 's0'...'s41' e 'move'."
   ]
  },
  {
   "cell_type": "code",
   "execution_count": null,
   "metadata": {},
   "outputs": [],
   "source": [
    "def save_dataset(dataset, filename='mcts_dataset.csv'):\n",
    "    with open(filename, 'w') as f:\n",
    "        # Cabeçalho com 42 features e o rótulo move\n",
    "        f.write(','.join([f's{i}' for i in range(42)]) + ',move\\n')\n",
    "        for state, move in dataset:\n",
    "            f.write(','.join(map(str, state)) + f',{move}\\n')"
   ]
  },
  {
   "cell_type": "markdown",
   "metadata": {},
   "source": [
    "A função `generate_mcts_dataset` gera um dataset de pares (estados, movimento) usando o MCTS. Tem como parâmetro o número de partidas a simular (`num_games`) e retorna uma lista de tuplos (`board_flat`, `move`). Cada estado `board_flat` é uma lista de 42 inteiros representando o tabuleiro, seguido de `move` (coluna escolhida pelo MCTS). O MCTS recebe um tempo de busca variável: 3 segundos por jogada inicial e, após 10 jogadas, passa a 1.5 segundos. A função salva o dataset parcialmente a cada 10 jogos."
   ]
  },
  {
   "cell_type": "code",
   "execution_count": null,
   "metadata": {},
   "outputs": [],
   "source": [
    "def generate_mcts_dataset(num_games=1000):\n",
    "    dataset = []\n",
    "\n",
    "    for game_idx in range(num_games):\n",
    "        print(f\"\\n🎮 Jogo {game_idx + 1} de {num_games}\")\n",
    "        state = ConnectState()\n",
    "        mcts = MCTS(state)\n",
    "        total_moves = 0  # contador de jogadas\n",
    "        mcts.search(time_limit=3)  # Tempo inicial para exploração mais profunda\n",
    "\n",
    "        while not state.game_over():\n",
    "            legal_moves = state.get_legal_moves()\n",
    "            move = mcts.best_move()\n",
    "            # Verifica e corrige movimento ilegal, se houver\n",
    "            if move not in legal_moves:\n",
    "                print(f\"[!] Movimento ilegal sugerido: {move}\")\n",
    "                move = random.choice(legal_moves)\n",
    "\n",
    "            try:\n",
    "                 # Flatten do tabuleiro antes de aplicar a jogada\n",
    "                board_flat = [cell for row in state.get_board() for cell in row]\n",
    "                dataset.append((board_flat, move))\n",
    "                # Aplica jogada no estado e no MCTS\n",
    "                state.move(move)\n",
    "                mcts.move(move)\n",
    "                total_moves += 1\n",
    "                # Ajuste de tempo por jogada após 10 movimentos\n",
    "                if not state.game_over():\n",
    "                    time_limit = 3 if total_moves < 10 else 1.5\n",
    "                    mcts.search(time_limit=time_limit)\n",
    "\n",
    "            except ValueError as e:\n",
    "                print(f\"[Erro] Movimento inválido: {e}\")\n",
    "                break\n",
    "\n",
    "        print(f\"✔️ Jogo {game_idx + 1} concluído — total de jogadas salvas: {len(dataset)}\")\n",
    "\n",
    "        # Salvamento parcial a cada 10 jogos\n",
    "        if (game_idx + 1) % 10 == 0:\n",
    "            save_dataset(dataset, filename='mcts_dataset_parcial.csv')\n",
    "            print(f\"💾 Dataset parcial salvo com {len(dataset)} jogadas.\")\n",
    "\n",
    "    return dataset"
   ]
  },
  {
   "cell_type": "markdown",
   "metadata": {},
   "source": [
    "Após isso, é possível fazer execução direta do gerador e salvar o dataset final. Neste caso foram escolhidos 1000 jogos, para ter boas informações e a árvore de decisão ser robusta."
   ]
  },
  {
   "cell_type": "code",
   "execution_count": null,
   "metadata": {},
   "outputs": [],
   "source": [
    "# Geração e salvamento\n",
    "if __name__ == \"__main__\":\n",
    "    dataset = generate_mcts_dataset(num_games=1000)\n",
    "    save_dataset(dataset)\n",
    "    print(f\"\\n✅ Dataset final salvo com {len(dataset)} exemplos!\")\n"
   ]
  },
  {
   "cell_type": "markdown",
   "metadata": {},
   "source": [
    "### 3.3. Árvores de Decisão"
   ]
  },
  {
   "cell_type": "markdown",
   "metadata": {},
   "source": [
    "Para o segundo método, foi utilizado um dataset (`iris.csv`) para testar (\"warm-up\") o algoritmo ID3. É um dataset mais pequeno, de contexto diferente, que tem como tarefa gerar/treinar uma árvore de decisão que, dadas quatro características (comprimento e largura da pétala, comprimento e largura da sépala), determine a que classe cada planta pertence (Iris setosa, Iris virginica ou Iris versicolor).\n",
    "Após esse teste, o objetivo é gerar uma árvore de decisão associada à implementação do algoritmo MCTS. É gerado um conjunto de pares ($state_{i}, move_{i}$), em que $state_{i}$ é o estado corrente do jogo e $move_{i}$ é o próximo movimento sugerido pelo algoritmo. Com esse dataset (`mcts_dataset.csv`), é treinada uma árvore de decisão usando o algoritmo ID3 (Iterative Dichotomiser 3), de forma a que, dado um estado de jogo, a árvore escolha o próximo movimento.\n",
    "Abaixo serão apresentadas os ficheiros decision_tree_builder.py, que implementa o algoritmo ID3, e `iris_test.py`, que aplica esse algoritmo no seu dataset.\n"
   ]
  },
  {
   "cell_type": "markdown",
   "metadata": {},
   "source": [
    "#### __decision_tree_builder.py__"
   ]
  },
  {
   "cell_type": "markdown",
   "metadata": {},
   "source": [
    "Importações necessárias:"
   ]
  },
  {
   "cell_type": "code",
   "execution_count": null,
   "metadata": {},
   "outputs": [],
   "source": [
    "import pandas as pd\n",
    "import numpy as np\n",
    "import pickle\n",
    "from collections import Counter"
   ]
  },
  {
   "cell_type": "markdown",
   "metadata": {},
   "source": [
    "A classe Node representa um nó numa árvore de decisão ID3. A função `__init__` inicializa o nó da árvore e tem como atributos:\n",
    "- `feature`: nome ou índice da feature usada para dividir neste nó (None se folha);\n",
    "- `children`: mapeamento do valor de feature para nós-filho;\n",
    "- `label`: Rótulo da classe se este nó for folha (None caso contrário)."
   ]
  },
  {
   "cell_type": "code",
   "execution_count": null,
   "metadata": {},
   "outputs": [],
   "source": [
    "class Node:\n",
    "    def __init__(self, feature=None, children=None, label=None):\n",
    "        self.feature = feature\n",
    "        self.children = children if children is not None else {}\n",
    "        self.label = label"
   ]
  },
  {
   "cell_type": "markdown",
   "metadata": {},
   "source": [
    "A função `entropy` calcula e retorna a entropia de Shannon de um vetor/série de rótulos `y` (parâmetro). A entropia pode ser calculada usando a fórmula:\n",
    "$$ H(y) = -\\sum_{i} p_i \\cdot \\log_2(p_i) $$"
   ]
  },
  {
   "cell_type": "code",
   "execution_count": null,
   "metadata": {},
   "outputs": [],
   "source": [
    "def entropy(y):\n",
    "    counts = Counter(y)\n",
    "    probabilities = [count / len(y) for count in counts.values()]\n",
    "    return -sum(p * np.log2(p) for p in probabilities if p > 0)"
   ]
  },
  {
   "cell_type": "markdown",
   "metadata": {},
   "source": [
    "A função `information_gain` calcula e retorna o ganho de informação ao dividir X e y pela feature especificada. Tem como parâmetros:\n",
    "- `X`: DataFrame de atributos;\n",
    "- `y`: Série de rótulos/classes;\n",
    "- `feature`: nome da coluna de X a avaliar.\n",
    "Este valor pode ser, então, calculado pela fórmula:\n",
    "$$ IG = H(y) - \\sum_{j} \\frac{|S_j|}{|S|} \\cdot H(S_j) $$"
   ]
  },
  {
   "cell_type": "code",
   "execution_count": null,
   "metadata": {},
   "outputs": [],
   "source": [
    "def information_gain(X, y, feature):\n",
    "    values = X[feature].unique()\n",
    "    weighted_entropy = 0\n",
    "\n",
    "    for v in values:\n",
    "        subset_y = y[X[feature] == v]\n",
    "        weighted_entropy += (len(subset_y) / len(y)) * entropy(subset_y)\n",
    "\n",
    "    return entropy(y) - weighted_entropy"
   ]
  },
  {
   "cell_type": "markdown",
   "metadata": {},
   "source": [
    "A principal função para a criação de uma árvore de decisão é o algoritmo `id3` (Iterative Dichotomiser 3), que retorna o nó raiz da árvore de decisão. Tem como parâmetros:\n",
    "- `X`: Dataframe de atributos;\n",
    "- `y`: Série de rótulos/classes correspondente;\n",
    "- `features`: Lista de colunas ainda disponíveis para divisão;\n",
    "- `depth`: Profundidade atual da árvore;\n",
    "- `max_depth`: Profundidade máxima permitida."
   ]
  },
  {
   "cell_type": "code",
   "execution_count": null,
   "metadata": {},
   "outputs": [],
   "source": [
    "def id3(X, y, features, depth=0, max_depth=15):\n",
    "    # critérios de paragem: pureza, sem features ou profundidade máxima\n",
    "    if len(set(y)) == 1 or len(features) == 0 or depth == max_depth:\n",
    "        return Node(label=y.iloc[0])\n",
    "    \n",
    "    if len(features) == 0:\n",
    "        most_common_label = y.mode()[0]\n",
    "        return Node(label=most_common_label)\n",
    "    #escolha de melhor feature\n",
    "    gains = [information_gain(X, y, f) for f in features]\n",
    "    best_feature = features[np.argmax(gains)]\n",
    "\n",
    "    node = Node(feature=best_feature)\n",
    "    feature_values = X[best_feature].unique()\n",
    "    #recursão para cada valor da feature escolhida\n",
    "    for value in feature_values:\n",
    "        subset_X = X[X[best_feature] == value]\n",
    "        subset_y = y[X[best_feature] == value]\n",
    "\n",
    "        if len(subset_y) == 0:\n",
    "            # nenhum exemplo com esse valor\n",
    "            most_common_label = y.mode()[0]\n",
    "            child = Node(label=most_common_label)\n",
    "        else:\n",
    "            #continua a recursão sem a feature escolhida\n",
    "            remaining_features = [f for f in features if f != best_feature]\n",
    "            child = id3(subset_X, subset_y, remaining_features, depth+1, max_depth)\n",
    "\n",
    "        node.children[value] = child\n",
    "\n",
    "    return node"
   ]
  },
  {
   "cell_type": "markdown",
   "metadata": {},
   "source": [
    "A função `majority_vote` ocorre quando existem ramos nunca vistos durante a previsão (`predict`), fazendo assim uma votação majoritária nos descendentes. Tem como parâmetro o nó atual da árvore de decisão e retorna a classe mais comum entre os filhos, ou `None` se não houver filhos."
   ]
  },
  {
   "cell_type": "code",
   "execution_count": null,
   "metadata": {},
   "outputs": [],
   "source": [
    "def majority_vote(node):\n",
    "    labels = []\n",
    "    def collect_labels(subnode):\n",
    "        if subnode.label is not None:\n",
    "            labels.append(subnode.label)\n",
    "        else:\n",
    "            for child in subnode.children.values():\n",
    "                collect_labels(child)\n",
    "    collect_labels(node)\n",
    "    if labels:\n",
    "        return Counter(labels).most_common(1)[0][0]\n",
    "    else:\n",
    "        return None"
   ]
  },
  {
   "cell_type": "markdown",
   "metadata": {},
   "source": [
    "Por fim, a função `predict` prediz a classe de um exemplo usando a árvore de decisão. Tem como parâmetros:\n",
    "- `tree`: o nó raiz da árvore;\n",
    "- `sample`: a classe prevista, ou `None` se não houver previsão.\n",
    "\n",
    "Retorna a `sample`."
   ]
  },
  {
   "cell_type": "code",
   "execution_count": null,
   "metadata": {},
   "outputs": [],
   "source": [
    "def predict(tree, sample):\n",
    "    while tree.label is None:\n",
    "        value = sample.get(tree.feature)\n",
    "        if value in tree.children:\n",
    "            tree = tree.children[value]\n",
    "        else:\n",
    "            # Valor nunca visto — retorna o valor de maior ocorrência entre os filhos\n",
    "            # ou uma jogada aleatória segura\n",
    "            if tree.children:\n",
    "                return majority_vote(tree)\n",
    "            else:\n",
    "                return None\n",
    "    return tree.label"
   ]
  },
  {
   "cell_type": "markdown",
   "metadata": {},
   "source": [
    "Após a implementação das funções, segue-se a criação da árvore. \n",
    "Começa-se por carregar os dados discretizados do dataset gerado: "
   ]
  },
  {
   "cell_type": "code",
   "execution_count": null,
   "metadata": {},
   "outputs": [],
   "source": [
    "# Carrega dados discretizados\n",
    "data = pd.read_csv(\"mcts_dataset.csv\")\n",
    "X = data.iloc[:, :-1]\n",
    "y = data.iloc[:, -1]\n",
    "features = X.columns.tolist()"
   ]
  },
  {
   "cell_type": "markdown",
   "metadata": {},
   "source": [
    "Após isso, treina-se (cria-se) a árvore de decisão usando a função `id3` e testa-se a mesma com a função `predict`, calculando a acurácia desse teste:"
   ]
  },
  {
   "cell_type": "code",
   "execution_count": null,
   "metadata": {},
   "outputs": [],
   "source": [
    "# Treina a árvore de decisão\n",
    "tree = id3(X, y, features)\n",
    "\n",
    "# Testa a árvore de decisão\n",
    "sample = X.iloc[0].to_dict()  # primeira linha como dict\n",
    "predicted_label = predict(tree, sample)\n",
    "actual_label = y.iloc[0]\n",
    "\n",
    "correct = 0\n",
    "for i in range(len(X)):\n",
    "    sample = X.iloc[i].to_dict()\n",
    "    prediction = predict(tree, sample)\n",
    "    if prediction == y.iloc[i]:\n",
    "        correct += 1\n",
    "\n",
    "accuracy = correct / len(X)\n",
    "# print(f\"Accuracy on training data: {accuracy:.2%}\")"
   ]
  },
  {
   "cell_type": "markdown",
   "metadata": {},
   "source": [
    "Por último, exporta-se a árvore de decisão, usando a biblioteca `pickle`, para ser usada mais tarde no ficheiro `game.py`:"
   ]
  },
  {
   "cell_type": "code",
   "execution_count": null,
   "metadata": {},
   "outputs": [],
   "source": [
    "# Exporta a árvore de decisão\n",
    "with open(\"decision_tree.pkl\", \"wb\") as f:\n",
    "    pickle.dump(tree, f)"
   ]
  },
  {
   "cell_type": "markdown",
   "metadata": {},
   "source": [
    "#### __iris_test.py__"
   ]
  },
  {
   "cell_type": "markdown",
   "metadata": {},
   "source": [
    "Importações necessárias:"
   ]
  },
  {
   "cell_type": "code",
   "execution_count": null,
   "metadata": {},
   "outputs": [],
   "source": [
    "import pandas as pd\n",
    "import pickle\n",
    "from decision_tree_builder import id3, predict, Node"
   ]
  },
  {
   "cell_type": "markdown",
   "metadata": {},
   "source": [
    "É necessário, inicialmente, carregar e discretizar os dados do dataset `iris.csv`. A função `discretize` discretiza uma coluna num número fixo de bins e retorna a coluna com os valores discretizados. Tem como parâmetros:\n",
    "- `col`: Coluna a discretizar;\n",
    "- `n_bins`: Nr de bins (default: 3)."
   ]
  },
  {
   "cell_type": "code",
   "execution_count": null,
   "metadata": {},
   "outputs": [],
   "source": [
    "# Carregamento e discretização dos dados do dataset iris.csv\n",
    "df = pd.read_csv('iris.csv')\n",
    "\n",
    "def discretize(col, n_bins=3):\n",
    "    return pd.cut(col, bins=n_bins, labels=[f'bin{i}' for i in range(n_bins)])\n",
    "\n",
    "# Discretiza todas as colunas, exceto a última (rótulo)\n",
    "for col in df.columns[:-1]:\n",
    "    df[col] = discretize(df[col])"
   ]
  },
  {
   "cell_type": "markdown",
   "metadata": {},
   "source": [
    "Após isso, são preparados os atributos e rótulos, tal como a divisão dos valores em treino e teste (70% de treino e 30% de teste)."
   ]
  },
  {
   "cell_type": "code",
   "execution_count": null,
   "metadata": {},
   "outputs": [],
   "source": [
    "# Preparação de atributos e rótulos\n",
    "X = df.iloc[:, :-1]\n",
    "y = df.iloc[:, -1]\n",
    "features = X.columns.tolist()\n",
    "\n",
    "# Divisão em treino e teste (70% treino, 30% teste)\n",
    "df_shuffled = df.sample(frac=1).reset_index(drop=True)\n",
    "split_idx = int(len(df_shuffled) * 0.7)\n",
    "train = df_shuffled.iloc[:split_idx].reset_index(drop=True)\n",
    "test = df_shuffled.iloc[split_idx:].reset_index(drop=True)\n",
    "\n",
    "X_train, y_train = train.iloc[:, :-1], train.iloc[:, -1]\n",
    "X_test, y_test = test.iloc[:, :-1], test.iloc[:, -1]"
   ]
  },
  {
   "cell_type": "markdown",
   "metadata": {},
   "source": [
    "Com eses valores, podemos treinar a árvore de decisão, com a função `id3` e exportá-la, caso seja necessário:"
   ]
  },
  {
   "cell_type": "code",
   "execution_count": null,
   "metadata": {},
   "outputs": [],
   "source": [
    "# treino da árvore de decisão\n",
    "tree = id3(X_train, y_train, features)\n",
    "\n",
    "# Serialização da árvore de decisão com pickle\n",
    "with open('iris_tree.pkl', 'wb') as f:\n",
    "    pickle.dump(tree, f)\n",
    "print(\"Decision tree serialized to iris_tree.pkl\")"
   ]
  },
  {
   "cell_type": "markdown",
   "metadata": {},
   "source": [
    "Por último, a função `print_tree` imprime a árvore de decisão de forma recursiva e tem como parâmetros:\n",
    "- `node` (Nó): nó atual da árvore de decisão;\n",
    "- `depth`: profundidade atual da árvore."
   ]
  },
  {
   "cell_type": "code",
   "execution_count": null,
   "metadata": {},
   "outputs": [],
   "source": [
    "# Função para imprimir a árvore de decisão\n",
    "def print_tree(node: Node, depth=0):\n",
    "    '''\n",
    "    Exibe a estrutura da árvore de decisão de forma recursiva\n",
    "    Parâmetros:\n",
    "    node (Node) - nó atual da árvore de decisão\n",
    "    depth (int) - profundidade atual da árvore\n",
    "    '''\n",
    "    indent = '  ' * depth\n",
    "    if node.label is not None:\n",
    "        print(f\"{indent}→ Label: {node.label}\")\n",
    "    else:\n",
    "        feat_name = features[node.feature] if isinstance(node.feature, int) else node.feature\n",
    "        print(f\"{indent}Feature: {feat_name}\")\n",
    "        for value, child in node.children.items():\n",
    "            print(f\"{indent}  If == {value}:\")\n",
    "            print_tree(child, depth+2)"
   ]
  },
  {
   "cell_type": "markdown",
   "metadata": {},
   "source": [
    "Após isso, basta chamar essa função e, por fim, avaliar a acurácia do conjunto de teste."
   ]
  },
  {
   "cell_type": "code",
   "execution_count": null,
   "metadata": {},
   "outputs": [],
   "source": [
    "# Exibe a estrutura da árvore de decisão gerada\n",
    "print(\"\\nDecision Tree Structure:\")\n",
    "print_tree(tree)\n",
    "\n",
    "# Avalia a acurácia no conjunto de teste\n",
    "correct = 0\n",
    "for idx, row in X_test.iterrows():\n",
    "    sample = row.to_dict()\n",
    "    pred = predict(tree, sample)\n",
    "    true_label = y_test.loc[idx]\n",
    "    if pred == true_label:\n",
    "        correct += 1\n",
    "accuracy = correct / len(X_test)\n",
    "print(f\"\\nAccuracy: {accuracy:.2%}\")"
   ]
  },
  {
   "cell_type": "markdown",
   "metadata": {},
   "source": [
    "## 4. Integração no Jogo"
   ]
  },
  {
   "cell_type": "markdown",
   "metadata": {},
   "source": [
    "Usando os códigos acima apresentados, é então possível recriar o jogo Quatro em Linha. Em baixo está o código final, que importa todos os anteriores."
   ]
  },
  {
   "cell_type": "markdown",
   "metadata": {},
   "source": [
    "#### __game.py__"
   ]
  },
  {
   "cell_type": "markdown",
   "metadata": {},
   "source": [
    "Importações necessárias:"
   ]
  },
  {
   "cell_type": "code",
   "execution_count": null,
   "metadata": {},
   "outputs": [],
   "source": [
    "from connected_four import ConnectState, GameMeta  # Representa o estado do jogo e a inicialização do jogo\n",
    "from mcts import MCTS                   # Implementa o algoritmo MCTS\n",
    "import pickle # usado para manipular a árvore de decisão\n",
    "from decision_tree_builder import predict  # Importa a função de previsão da árvore de decisão"
   ]
  },
  {
   "cell_type": "markdown",
   "metadata": {},
   "source": [
    "As classes `RestartGameException` e `QuitGameException` são exceções específicas para controlar o fluxo do jogo, e permitem reiniciar ou sair do mesmo de forma controlada."
   ]
  },
  {
   "cell_type": "code",
   "execution_count": null,
   "metadata": {},
   "outputs": [],
   "source": [
    "class RestartGameException(Exception):\n",
    "    pass\n",
    "\n",
    "class QuitGameException(Exception):\n",
    "    pass"
   ]
  },
  {
   "cell_type": "markdown",
   "metadata": {},
   "source": [
    "Para utilizar a árvore de decisão no jogo é necessário, primeiramente, de a carregar, usando o `pickle`:"
   ]
  },
  {
   "cell_type": "code",
   "execution_count": null,
   "metadata": {},
   "outputs": [],
   "source": [
    "# carregamento da árvore de decisão (ficheiro .pkl)\n",
    "with open(\"decision_tree.pkl\", \"rb\") as f:\n",
    "    decision_tree = pickle.load(f)"
   ]
  },
  {
   "cell_type": "markdown",
   "metadata": {},
   "source": [
    "A função `safe_int_input` lê inteiros de forma a tratar de inputs diferentes como `restart` e `quit`, ou erros."
   ]
  },
  {
   "cell_type": "code",
   "execution_count": null,
   "metadata": {},
   "outputs": [],
   "source": [
    "#Lê inteiros com tratamento para \"restart\" e \"quit\"\n",
    "def safe_int_input(prompt):\n",
    "    while True:\n",
    "        try:\n",
    "            value = input(prompt)\n",
    "            if value.lower() == 'restart':\n",
    "                raise RestartGameException\n",
    "            if value.lower() == 'quit':\n",
    "                raise QuitGameException\n",
    "            return int(value)\n",
    "        except ValueError:\n",
    "            print(\"Entrada inválida. Por favor insira um número inteiro.\")\n",
    "        except EOFError:\n",
    "            raise"
   ]
  },
  {
   "cell_type": "markdown",
   "metadata": {},
   "source": [
    "A função `safe_move_input` lê uma jogada válida, i.e., um número de 0 a 6 para associar à coluna da jogada."
   ]
  },
  {
   "cell_type": "code",
   "execution_count": null,
   "metadata": {},
   "outputs": [],
   "source": [
    "# Lê uma jogada válida (coluna de 0 a 6)\n",
    "def safe_move_input(state, prompt=\"Escolha uma coluna (0-6), 'restart' ou 'quit': \"):\n",
    "    while True:\n",
    "        try:\n",
    "            user_input = input(prompt)\n",
    "            if user_input.lower() == 'restart':\n",
    "                raise RestartGameException\n",
    "            if user_input.lower() == 'quit':\n",
    "                raise QuitGameException\n",
    "            move = int(user_input)\n",
    "            if move in state.get_legal_moves():\n",
    "                return move\n",
    "            print(\"Movimento inválido. Tente novamente.\")\n",
    "        except ValueError:\n",
    "            print(\"Entrada inválida. Insira um número de 0 a 6.\")\n",
    "        except EOFError:\n",
    "            raise"
   ]
  },
  {
   "cell_type": "markdown",
   "metadata": {},
   "source": [
    "A função `state_to_features` converte o estado de jogo em features, ou seja, transforma o estado do tabuleiro num dicionário de atributos para alimentar a árvore de decisão."
   ]
  },
  {
   "cell_type": "code",
   "execution_count": null,
   "metadata": {},
   "outputs": [],
   "source": [
    "def state_to_features(state):\n",
    "    # Assumindo que o estado tem uma representação interna `board`\n",
    "    # e que a árvore foi treinada com features nomeadas como pos_0, pos_1, ..., pos_41\n",
    "    features = {}\n",
    "    for i in range(6):  # 6 linhas\n",
    "        for j in range(7):  # 7 colunas\n",
    "            index = i * 7 + j\n",
    "            features[f\"s{index}\"] = state.board[i][j]\n",
    "\n",
    "    return features"
   ]
  },
  {
   "cell_type": "markdown",
   "metadata": {},
   "source": [
    "De seguida temos as funções de jogo. Existem 4 modos de jogo:\n",
    "- Jogador contra Jogador: tem como função `play_player_vs_player` e parâmetro o jogador inicial;"
   ]
  },
  {
   "cell_type": "code",
   "execution_count": null,
   "metadata": {},
   "outputs": [],
   "source": [
    "def play_player_vs_player(starting_player):\n",
    "    state = ConnectState()\n",
    "    state.to_play = starting_player\n",
    "    while not state.game_over():\n",
    "        state.print()\n",
    "        print(f\"Vez de {'X' if state.to_play==1 else 'O'}\")\n",
    "        move = safe_move_input(state)\n",
    "        state.move(move)\n",
    "    state.print()\n",
    "    return state.get_outcome()"
   ]
  },
  {
   "cell_type": "markdown",
   "metadata": {},
   "source": [
    "- Jogador contra MCTS: tem como função `play_player_vs_ai` e parâmetros a peça do jogador (`player_piece`) e o jogador inicial (`first`);"
   ]
  },
  {
   "cell_type": "code",
   "execution_count": null,
   "metadata": {},
   "outputs": [],
   "source": [
    "def play_player_vs_ai(player_piece, first):\n",
    "    state = ConnectState()\n",
    "    ai_piece = 2 if player_piece == 1 else 1\n",
    "    mcts = MCTS(state)\n",
    "    if first == 'ai':\n",
    "        state.to_play = ai_piece\n",
    "        state.print()\n",
    "        print(\"MCTS a começar...\")\n",
    "        mcts.search(10)\n",
    "        mv = mcts.best_move()\n",
    "        print(f\"MCTS ({'X' if ai_piece==1 else 'O'}) escolheu: {mv}\")\n",
    "        state.move(mv)\n",
    "        mcts.move(mv)\n",
    "    else:\n",
    "        state.to_play = player_piece\n",
    "    while not state.game_over():\n",
    "        state.print()\n",
    "        if state.to_play == player_piece:\n",
    "            mv = safe_move_input(state)\n",
    "            state.move(mv)\n",
    "            mcts.move(mv)\n",
    "        else:\n",
    "            print(\"MCTS a pensar...\")\n",
    "            mcts.search(5)\n",
    "            mv = mcts.best_move()\n",
    "            print(f\"MCTS ({'X' if ai_piece==1 else 'O'}) escolheu: {mv}\")\n",
    "            state.move(mv)\n",
    "            mcts.move(mv)\n",
    "    state.print()\n",
    "    return state.get_outcome()"
   ]
  },
  {
   "cell_type": "markdown",
   "metadata": {},
   "source": [
    "- Jogador contra Árvore, de função `play_player_vs_tree` e parâmetros a peça do jogador (`player_piece`), o jogador inicial (`first`) e a árvore de decisão carregada no início do jogo (`tree`);"
   ]
  },
  {
   "cell_type": "code",
   "execution_count": null,
   "metadata": {},
   "outputs": [],
   "source": [
    "def play_player_vs_tree(player_piece, first, tree):\n",
    "    state = ConnectState()\n",
    "    tree_piece = 2 if player_piece == 1 else 1\n",
    "\n",
    "    if first == 'tree':\n",
    "        state.to_play = tree_piece\n",
    "        state.print()\n",
    "        features = state_to_features(state)\n",
    "        mv = predict(tree, features)\n",
    "        print(f\"Árvore ({'X' if tree_piece==1 else 'O'}) escolheu: {mv}\")\n",
    "        state.move(mv)\n",
    "    else:\n",
    "        state.to_play = player_piece\n",
    "\n",
    "    while not state.game_over():\n",
    "        state.print()\n",
    "        if state.to_play == player_piece:\n",
    "            mv = safe_move_input(state)\n",
    "        else:\n",
    "            print(\"Árvore a pensar...\")\n",
    "            features = state_to_features(state)\n",
    "            mv = predict(tree, features)\n",
    "            print(f\"Árvore ({'X' if tree_piece==1 else 'O'}) escolheu: {mv}\")\n",
    "        state.move(mv)\n",
    "\n",
    "    state.print()\n",
    "    return state.get_outcome()"
   ]
  },
  {
   "cell_type": "markdown",
   "metadata": {},
   "source": [
    "- MCTS contra Árvore, de função `play_ai_vs_tree` e parâmetros o jogador inicial (`starting_player`) e a árvore de decisão (`tree`)."
   ]
  },
  {
   "cell_type": "code",
   "execution_count": null,
   "metadata": {},
   "outputs": [],
   "source": [
    "def play_ai_vs_tree(starting_player, tree):\n",
    "    state = ConnectState()\n",
    "    mcts = MCTS(state)\n",
    "    ai_piece = starting_player\n",
    "    tree_piece = 2 if ai_piece == 1 else 1\n",
    "\n",
    "    while not state.game_over():\n",
    "        state.print()\n",
    "        if state.to_play == ai_piece:\n",
    "            print(\"MCTS a pensar...\")\n",
    "            mcts.search(5)\n",
    "            mv = mcts.best_move()\n",
    "            print(f\"MCTS escolheu: {mv}\")\n",
    "        else:\n",
    "            print(\"Árvore a pensar...\")\n",
    "            features = state_to_features(state)\n",
    "            mv = predict(tree, features)\n",
    "            print(f\"Árvore escolheu: {mv}\")\n",
    "        state.move(mv)\n",
    "        mcts.move(mv)\n",
    "\n",
    "    state.print()\n",
    "    return state.get_outcome()"
   ]
  },
  {
   "cell_type": "markdown",
   "metadata": {},
   "source": [
    "Após um jogo terminar, é apresentado um menu, de função `post_game_menu`, que permite ao jogador jogar novamente, mudar de modo ou sair do jogo."
   ]
  },
  {
   "cell_type": "code",
   "execution_count": null,
   "metadata": {},
   "outputs": [],
   "source": [
    "# Menu pós-jogo: Play Again, Change Modes, Quit\n",
    "def post_game_menu():\n",
    "    print(\"O que deseja fazer a seguir?\")\n",
    "    print(\"1: Jogar novamente\")\n",
    "    print(\"2: Mudar modo\")\n",
    "    print(\"3: Sair\")\n",
    "    choice = safe_int_input(\"Escolha: \")\n",
    "    if choice == 1:\n",
    "        return 'again'\n",
    "    if choice == 2:\n",
    "        raise RestartGameException\n",
    "    return 'quit'"
   ]
  },
  {
   "cell_type": "markdown",
   "metadata": {},
   "source": [
    "A função `main` lida com os menus iniciais, com a escolha do modo (que utiliza as funções acima), do jogador inicial e da peça do jogador. Cria um \"placar\" com o número de vitórias/derrotas caso o jogador decida fazer vários jogos seguidos no mesmo modo. Assim, durante esse tempo, o número de vitórias e derrotas é armazenado pelo sistema e impresso no terminal."
   ]
  },
  {
   "cell_type": "code",
   "execution_count": null,
   "metadata": {},
   "outputs": [],
   "source": [
    "# Bloco principal\n",
    "\n",
    "def main():\n",
    "    x_wins = o_wins = draws = 0\n",
    "    try:\n",
    "        while True:\n",
    "            print(\"1: Jogador vs Jogador\\n2: Jogador vs MCTS\\n3: Jogador vs Árvore\\n4: MCTS vs Árvore\")\n",
    "            mode = safe_int_input(\"Modo: \")\n",
    "            # Definições iniciais do modo\n",
    "            if mode == 1:\n",
    "                print(\"Quem começa? \\n1: X  \\n2: O\")\n",
    "                first = 1 if safe_int_input(\"Escolha: \")==1 else 2\n",
    "                while True:\n",
    "                    outcome = play_player_vs_player(first)\n",
    "                    if outcome == 1: x_wins += 1\n",
    "                    elif outcome == 2: o_wins += 1\n",
    "                    else: draws += 1\n",
    "                    print(f\"Placar: (X) {x_wins} - {o_wins} (O) (Empates: {draws})\")\n",
    "                    action = post_game_menu()\n",
    "                    if action == 'again':\n",
    "                        continue\n",
    "                    elif action == 'quit':\n",
    "                        raise QuitGameException\n",
    "            elif mode == 2:\n",
    "                print(\"Quem começa? \\n1: Jogador  \\n2: MCTS\")\n",
    "                first = 'player' if safe_int_input(\"Escolha: \") == 1 else 'ai'\n",
    "                print(\"Que peça prefere? \\n1: X  \\n2: O\")\n",
    "                player_piece = 1 if safe_int_input(\"Escolha: \") == 1 else 2\n",
    "                mcts_piece = 3 - player_piece\n",
    "\n",
    "                while True:\n",
    "                    outcome = play_player_vs_ai(player_piece, first)\n",
    "                    # se outcome == player_piece → jogador humano ganhou\n",
    "                    if outcome == player_piece:\n",
    "                        if player_piece == 1:\n",
    "                            x_wins += 1\n",
    "                        else:\n",
    "                            o_wins += 1\n",
    "                    elif outcome == mcts_piece:\n",
    "                        # MCTS ganhou\n",
    "                        if mcts_piece == 1:\n",
    "                            x_wins += 1\n",
    "                        else:\n",
    "                            o_wins += 1\n",
    "                    else:\n",
    "                        draws += 1\n",
    "\n",
    "                    print(f\"Placar: (X) {x_wins} - {o_wins} (O) (Empates: {draws})\")\n",
    "                    action = post_game_menu()\n",
    "                    if action == 'again':\n",
    "                        continue\n",
    "                    elif action == 'quit':\n",
    "                        raise QuitGameException\n",
    "\n",
    "            elif mode == 3:\n",
    "                print(\"Quem começa? \\n1: Jogador  \\n2: Árvore\")\n",
    "                first = 'player' if safe_int_input(\"Escolha: \") == 1 else 'tree'\n",
    "                print(\"Que peça prefere? \\n1: X  \\n2: O\")\n",
    "                player_piece = 1 if safe_int_input(\"Escolha: \") == 1 else 2\n",
    "                tree_piece = 3 - player_piece\n",
    "\n",
    "                while True:\n",
    "                    outcome = play_player_vs_tree(player_piece, first, decision_tree)\n",
    "                    if outcome == player_piece:\n",
    "                        # Jogador humano ganhou\n",
    "                        if player_piece == 1:\n",
    "                            x_wins += 1\n",
    "                        else:\n",
    "                            o_wins += 1\n",
    "                    elif outcome == tree_piece:\n",
    "                        # Árvore ganhou\n",
    "                        if tree_piece == 1:\n",
    "                            x_wins += 1\n",
    "                        else:\n",
    "                            o_wins += 1\n",
    "                    else:\n",
    "                        draws += 1\n",
    "\n",
    "                    print(f\"Placar: (X) {x_wins} - {o_wins} (O) (Empates: {draws})\")\n",
    "                    action = post_game_menu()\n",
    "                    if action == 'again':\n",
    "                        continue\n",
    "                    elif action == 'quit':\n",
    "                        raise QuitGameException\n",
    "         \n",
    "            elif mode == 4:\n",
    "                print(\"Quem começa? \\n1: MCTS  \\n2: Árvore\")\n",
    "                mcts_piece = 1 if safe_int_input(\"Escolha: \") == 1 else 2\n",
    "                tree_piece = 3 - mcts_piece\n",
    "\n",
    "                while True:\n",
    "                    outcome = play_ai_vs_tree(mcts_piece, decision_tree)\n",
    "                    if outcome == mcts_piece:\n",
    "                        # MCTS ganhou\n",
    "                        if mcts_piece == 1:\n",
    "                            x_wins += 1\n",
    "                        else:\n",
    "                            o_wins += 1\n",
    "                    elif outcome == tree_piece:\n",
    "                        # Árvore ganhou\n",
    "                        if tree_piece == 1:\n",
    "                            x_wins += 1\n",
    "                        else:\n",
    "                            o_wins += 1\n",
    "                    else:\n",
    "                        draws += 1\n",
    "\n",
    "                    print(f\"Placar: (X) {x_wins} - {o_wins} (O) (Empates: {draws})\")\n",
    "                    action = post_game_menu()\n",
    "                    if action == 'again':\n",
    "                        continue\n",
    "                    elif action == 'quit':\n",
    "                        raise QuitGameException\n",
    "            else:\n",
    "                print(\"Modo inválido.\")\n",
    "    except RestartGameException:\n",
    "        print(\"Mudando modo...\")\n",
    "        main()\n",
    "    except QuitGameException:\n",
    "        print(\"Programa encerrado.\")\n",
    "    except EOFError:\n",
    "        print(\"Entrada finalizada.\")\n",
    "\n",
    "if __name__ == \"__main__\":\n",
    "    main()"
   ]
  },
  {
   "cell_type": "markdown",
   "metadata": {},
   "source": [
    "## 4. Resultados"
   ]
  },
  {
   "cell_type": "markdown",
   "metadata": {},
   "source": [
    "Nesta seção, apresentamos os resultados numéricos e visuais obtidos a partir das simulações de Connect Four e do teste com o conjunto Iris.  \n",
    "Mostraremos métricas quantitativas, detalhes de partidas de exemplo (“uso ao vivo”) e visualizações da árvore de decisão."
   ]
  },
  {
   "cell_type": "markdown",
   "metadata": {},
   "source": [
    "### 4.1. Demonstrações ao Vivo"
   ]
  },
  {
   "cell_type": "markdown",
   "metadata": {},
   "source": [
    "#### __Jogador Contra MCTS__"
   ]
  },
  {
   "cell_type": "code",
   "execution_count": 15,
   "metadata": {},
   "outputs": [
    {
     "name": "stdout",
     "output_type": "stream",
     "text": [
      "The autoreload extension is already loaded. To reload it, use:\n",
      "  %reload_ext autoreload\n",
      "=============================\n",
      "|   |   |   |   |   |   |   |\n",
      "|   |   |   |   |   |   |   |\n",
      "|   |   |   |   |   |   |   |\n",
      "|   |   |   |   |   |   |   |\n",
      "|   |   |   |   |   |   |   |\n",
      "| X |   |   |   |   |   |   |\n",
      "=============================\n",
      "O MCTS escolheu: 2\n",
      "=============================\n",
      "|   |   |   |   |   |   |   |\n",
      "|   |   |   |   |   |   |   |\n",
      "|   |   |   |   |   |   |   |\n",
      "|   |   |   |   |   |   |   |\n",
      "|   |   |   |   |   |   |   |\n",
      "| X |   | O |   |   |   |   |\n",
      "=============================\n",
      "=============================\n",
      "|   |   |   |   |   |   |   |\n",
      "|   |   |   |   |   |   |   |\n",
      "|   |   |   |   |   |   |   |\n",
      "|   |   |   |   |   |   |   |\n",
      "|   |   |   |   |   |   |   |\n",
      "| X | X | O |   |   |   |   |\n",
      "=============================\n",
      "O MCTS escolheu: 2\n",
      "=============================\n",
      "|   |   |   |   |   |   |   |\n",
      "|   |   |   |   |   |   |   |\n",
      "|   |   |   |   |   |   |   |\n",
      "|   |   |   |   |   |   |   |\n",
      "|   |   | O |   |   |   |   |\n",
      "| X | X | O |   |   |   |   |\n",
      "=============================\n"
     ]
    }
   ],
   "source": [
    "%load_ext autoreload\n",
    "%autoreload 3\n",
    "from connected_four import ConnectState, GameMeta\n",
    "from mcts import MCTS\n",
    "state = ConnectState()\n",
    "mcts = MCTS(state)\n",
    "state.to_play = 1\n",
    "state.move(0) #Jogador joga peça na coluna 0\n",
    "state.print()\n",
    "mcts.search(1) # MCTS \"pensou\" por 1 segundo\n",
    "print(f\"O MCTS escolheu: {mcts.best_move()}\")\n",
    "state.move(mcts.best_move())\n",
    "state.print()\n",
    "state.move(1) #Jogador joga peça na coluna 1\n",
    "state.print()   \n",
    "mcts.search(1)\n",
    "print(f\"O MCTS escolheu: {mcts.best_move()}\")\n",
    "state.move(mcts.best_move())\n",
    "state.print()"
   ]
  },
  {
   "cell_type": "markdown",
   "metadata": {},
   "source": [
    "__Sequência:__\n",
    "\n",
    "Jogador (X): 0  \n",
    "MCTS (O): 2  \n",
    "Jogador (X): 1  \n",
    "MCTS (O): 2  \n",
    "\n",
    "O jogador (X) tenta formar uma linha horizontal nas colunas 0 e 1. O MCTS responde com uma jogada na coluna 2 — interrompendo o avanço e ocupando espaço central estratégico. O facto do MCTS repetir a jogada na mesma coluna (2) mostra que ele reconhece o valor tático da posição (tanto defensivo como central)."
   ]
  },
  {
   "cell_type": "markdown",
   "metadata": {},
   "source": [
    "#### __Jogador Contra Árvore__"
   ]
  },
  {
   "cell_type": "code",
   "execution_count": 11,
   "metadata": {},
   "outputs": [
    {
     "name": "stdout",
     "output_type": "stream",
     "text": [
      "The autoreload extension is already loaded. To reload it, use:\n",
      "  %reload_ext autoreload\n",
      "=============================\n",
      "|   |   |   |   |   |   |   |\n",
      "|   |   |   |   |   |   |   |\n",
      "|   |   |   |   |   |   |   |\n",
      "|   |   |   |   |   |   |   |\n",
      "|   |   |   |   |   |   |   |\n",
      "| X |   |   |   |   |   |   |\n",
      "=============================\n",
      "Árvore escolheu: 6\n",
      "=============================\n",
      "|   |   |   |   |   |   |   |\n",
      "|   |   |   |   |   |   |   |\n",
      "|   |   |   |   |   |   |   |\n",
      "|   |   |   |   |   |   |   |\n",
      "|   |   |   |   |   |   |   |\n",
      "| X |   |   |   |   |   | O |\n",
      "=============================\n",
      "=============================\n",
      "|   |   |   |   |   |   |   |\n",
      "|   |   |   |   |   |   |   |\n",
      "|   |   |   |   |   |   |   |\n",
      "|   |   |   |   |   |   |   |\n",
      "|   |   |   |   |   |   |   |\n",
      "| X | X |   |   |   |   | O |\n",
      "=============================\n",
      "Árvore escolheu: 6\n",
      "=============================\n",
      "|   |   |   |   |   |   |   |\n",
      "|   |   |   |   |   |   |   |\n",
      "|   |   |   |   |   |   |   |\n",
      "|   |   |   |   |   |   |   |\n",
      "|   |   |   |   |   |   | O |\n",
      "| X | X |   |   |   |   | O |\n",
      "=============================\n",
      "=============================\n",
      "|   |   |   |   |   |   |   |\n",
      "|   |   |   |   |   |   |   |\n",
      "|   |   |   |   |   |   |   |\n",
      "|   |   |   |   |   |   |   |\n",
      "|   |   |   |   |   |   | O |\n",
      "| X | X | X |   |   |   | O |\n",
      "=============================\n",
      "Árvore escolheu: 3\n",
      "=============================\n",
      "|   |   |   |   |   |   |   |\n",
      "|   |   |   |   |   |   |   |\n",
      "|   |   |   |   |   |   |   |\n",
      "|   |   |   |   |   |   |   |\n",
      "|   |   |   |   |   |   | O |\n",
      "| X | X | X | O |   |   | O |\n",
      "=============================\n"
     ]
    }
   ],
   "source": [
    "%load_ext autoreload\n",
    "%autoreload 3\n",
    "from connected_four import ConnectState, GameMeta\n",
    "from decision_tree_builder import predict\n",
    "from game  import state_to_features\n",
    "import pickle\n",
    "# carregar árvore de decisão\n",
    "with open(\"decision_tree.pkl\", \"rb\") as f:\n",
    "    decision_tree = pickle.load(f)\n",
    "# Célula de código: executa algumas jogadas\n",
    "state = ConnectState()\n",
    "state.to_play = 1\n",
    "state.move(0) # Jogador (X) faz jogada na coluna 0\n",
    "state.print()\n",
    "# Árvore de Decisão responde\n",
    "mv = predict(decision_tree, state_to_features(state))\n",
    "print(f\"Árvore escolheu: {mv}\")\n",
    "state.move(mv)\n",
    "state.print()\n",
    "state.move(1) # Jogador (X) faz jogada na coluna 1\n",
    "state.print()\n",
    "mv = predict(decision_tree, state_to_features(state))\n",
    "print(f\"Árvore escolheu: {mv}\")\n",
    "state.move(mv)\n",
    "state.print()\n",
    "state.move(2) # Jogador (X) faz jogada na coluna 2\n",
    "state.print()\n",
    "mv = predict(decision_tree, state_to_features(state))\n",
    "print(f\"Árvore escolheu: {mv}\")\n",
    "state.move(mv)\n",
    "state.print()"
   ]
  },
  {
   "cell_type": "markdown",
   "metadata": {},
   "source": [
    "__Sequência de jogadas:__\n",
    "\n",
    "Jogador (X): 0  \n",
    "Árvore (O): 3  \n",
    "Jogador (X): 1  \n",
    "Árvore (O): 6  \n",
    "Jogador (X): 2  \n",
    "Árvore (O): 6  \n",
    "\n",
    "O jogador (X) tenta formar uma linha de 4 horizontal começando pelas colunas 0–2. A árvore, percebendo a ameaça, joga na coluna 3 e mais tarde repete na 6, demonstrando um comportamento defensivo, bloqueando uma potencial vitória, e consistente. Mostra, assim, que a árvore tem capacidade de bloqueio, mesmo sem usar lookahead profundo como o MCTS."
   ]
  },
  {
   "cell_type": "markdown",
   "metadata": {},
   "source": [
    "#### __MCTS contra Árvore__"
   ]
  },
  {
   "cell_type": "code",
   "execution_count": 24,
   "metadata": {},
   "outputs": [
    {
     "name": "stdout",
     "output_type": "stream",
     "text": [
      "The autoreload extension is already loaded. To reload it, use:\n",
      "  %reload_ext autoreload\n",
      "O MCTS escolheu: 2\n",
      "=============================\n",
      "|   |   |   |   |   |   |   |\n",
      "|   |   |   |   |   |   |   |\n",
      "|   |   |   |   |   |   |   |\n",
      "|   |   |   |   |   |   |   |\n",
      "|   |   |   |   |   |   |   |\n",
      "|   |   |   |   |   |   | X |\n",
      "=============================\n",
      "Árvore escolheu: 6\n",
      "=============================\n",
      "|   |   |   |   |   |   |   |\n",
      "|   |   |   |   |   |   |   |\n",
      "|   |   |   |   |   |   |   |\n",
      "|   |   |   |   |   |   |   |\n",
      "|   |   |   |   |   |   | O |\n",
      "|   |   |   |   |   |   | X |\n",
      "=============================\n",
      "O MCTS escolheu: 6\n",
      "=============================\n",
      "|   |   |   |   |   |   |   |\n",
      "|   |   |   |   |   |   |   |\n",
      "|   |   |   |   |   |   |   |\n",
      "|   |   |   |   |   |   |   |\n",
      "|   |   |   |   |   |   | O |\n",
      "|   |   |   |   | X |   | X |\n",
      "=============================\n",
      "Árvore escolheu: 5\n",
      "=============================\n",
      "|   |   |   |   |   |   |   |\n",
      "|   |   |   |   |   |   |   |\n",
      "|   |   |   |   |   |   |   |\n",
      "|   |   |   |   |   |   |   |\n",
      "|   |   |   |   |   |   | O |\n",
      "|   |   |   |   | X | O | X |\n",
      "=============================\n",
      "O MCTS escolheu: 3\n",
      "=============================\n",
      "|   |   |   |   |   |   |   |\n",
      "|   |   |   |   |   |   |   |\n",
      "|   |   |   |   |   |   |   |\n",
      "|   |   |   |   |   |   | X |\n",
      "|   |   |   |   |   |   | O |\n",
      "|   |   |   |   | X | O | X |\n",
      "=============================\n",
      "Árvore escolheu: 2\n",
      "=============================\n",
      "|   |   |   |   |   |   |   |\n",
      "|   |   |   |   |   |   |   |\n",
      "|   |   |   |   |   |   |   |\n",
      "|   |   |   |   |   |   | X |\n",
      "|   |   |   |   |   |   | O |\n",
      "|   |   | O |   | X | O | X |\n",
      "=============================\n",
      "O MCTS escolheu: 3\n",
      "=============================\n",
      "|   |   |   |   |   |   |   |\n",
      "|   |   |   |   |   |   |   |\n",
      "|   |   |   |   |   |   |   |\n",
      "|   |   |   |   |   |   | X |\n",
      "|   |   |   |   |   |   | O |\n",
      "|   |   | O | X | X | O | X |\n",
      "=============================\n"
     ]
    }
   ],
   "source": [
    "%load_ext autoreload\n",
    "%autoreload 3\n",
    "from connected_four import ConnectState, GameMeta\n",
    "from decision_tree_builder import predict\n",
    "from game  import state_to_features\n",
    "from mcts import MCTS\n",
    "import pickle\n",
    "# carregar árvore de decisão\n",
    "with open(\"decision_tree.pkl\", \"rb\") as f:\n",
    "    decision_tree = pickle.load(f)\n",
    "# Célula de código: executa algumas jogadas\n",
    "state = ConnectState()\n",
    "mcts = MCTS(state)\n",
    "mcts.search(4)\n",
    "print(f\"O MCTS escolheu: {mcts.best_move()}\")\n",
    "state.move(mcts.best_move())\n",
    "state.print()\n",
    "# Árvore de Decisão responde\n",
    "mv = predict(decision_tree, state_to_features(state))\n",
    "print(f\"Árvore escolheu: {mv}\")\n",
    "state.move(mv)\n",
    "state.print()\n",
    "mcts.search(4)\n",
    "print(f\"O MCTS escolheu: {mcts.best_move()}\")\n",
    "state.move(mcts.best_move())\n",
    "state.print()\n",
    "mv = predict(decision_tree, state_to_features(state))\n",
    "print(f\"Árvore escolheu: {mv}\")\n",
    "state.move(mv)\n",
    "state.print()\n",
    "mcts.search(4)\n",
    "print(f\"O MCTS escolheu: {mcts.best_move()}\")\n",
    "state.move(mcts.best_move())\n",
    "state.print()\n",
    "mv = predict(decision_tree, state_to_features(state))\n",
    "print(f\"Árvore escolheu: {mv}\")\n",
    "state.move(mv)\n",
    "state.print()\n",
    "mcts.search(4)\n",
    "print(f\"O MCTS escolheu: {mcts.best_move()}\")\n",
    "state.move(mcts.best_move())\n",
    "state.print()"
   ]
  },
  {
   "cell_type": "markdown",
   "metadata": {},
   "source": [
    "__Sequência de jogadas:__\n",
    "MCTS (X): 3  \n",
    "Árvore (O): 2  \n",
    "MCTS (X): 4  \n",
    "Árvore (O): 5  \n",
    "MCTS (X): 6  \n",
    "Árvore (O): 6\n",
    "\n",
    "Neste cenário, o MCTS começa pressionando pelo centro e cria uma ameaça diagonal. A árvore responde com jogadas defensivas e ocupa espaços laterais. Apesar de poucas jogadas, já se observa um padrão estratégico emergente de ambos os lados. "
   ]
  },
  {
   "cell_type": "markdown",
   "metadata": {},
   "source": [
    "### 4.2. Desempenho do MCTS"
   ]
  },
  {
   "cell_type": "markdown",
   "metadata": {},
   "source": [
    "O desempenho do algoritmo Monte Carlo Tree Search ode ser avaliado sob três aspectos principais: \n",
    "- velocidade de simulações (rollouts);\n",
    "- tempo médio por decisão;\n",
    "- qualidade do jogo (win‑rate)."
   ]
  },
  {
   "cell_type": "markdown",
   "metadata": {},
   "source": [
    "#### __Rollouts por segundo__"
   ]
  },
  {
   "cell_type": "markdown",
   "metadata": {},
   "source": [
    "Número de simulações completas (“playouts”) que o MCTS executa por segundo de CPU. Cada rollout percorre Seleção → Expansão → Simulação → Retropropagação até o fim do jogo. Mais rollouts geralmente significam melhor estimativa de valor de cada movimento, pois exploram mais cenários futuros."
   ]
  },
  {
   "cell_type": "code",
   "execution_count": null,
   "metadata": {},
   "outputs": [],
   "source": [
    "import time\n",
    "mcts = MCTS(ConnectState())\n",
    "start = time.process_time()\n",
    "mcts.search(time_limit=1.0)      # 1 segundo de CPU\n",
    "rollouts = mcts.num_rollouts     # armazenado internamente\n",
    "elapsed = time.process_time() - start\n",
    "print(f\"{rollouts} rollouts em {elapsed:.2f}s\")"
   ]
  },
  {
   "cell_type": "markdown",
   "metadata": {},
   "source": [
    "#### __Tempo Médio por Decisão__"
   ]
  },
  {
   "cell_type": "markdown",
   "metadata": {},
   "source": [
    "Tempo de CPU gasto em média para escolher uma jogada. Se usarmos um limite fixo de X segundos em cada iteração de search, este será próximo de X, mas pequenas variações ocorrem por conta do overhead de Python e estruturas de dados. Ajuda a entender se o algoritmo é viável em tempo real. Por exemplo, para um agente adversário rápido, 3 s por jogada pode ser aceitável; para um servidor de partidas online com mil partidas simultâneas, talvez não."
   ]
  },
  {
   "cell_type": "code",
   "execution_count": null,
   "metadata": {},
   "outputs": [],
   "source": [
    "times = []\n",
    "for _ in range(10):\n",
    "    t0 = time.process_time()\n",
    "    mcts.search(time_limit=3.0)   # 3s solicitados\n",
    "    times.append(time.process_time() - t0)\n",
    "print(\"Média por move:\", sum(times)/len(times), \"s\")"
   ]
  },
  {
   "cell_type": "markdown",
   "metadata": {},
   "source": [
    "#### __Qualidade de Jogo (Win-Rate)__"
   ]
  },
  {
   "cell_type": "markdown",
   "metadata": {},
   "source": [
    "Proporção de partidas em que o MCTS sai vencedor contra outro jogador (pode ser contra si mesmo ou outra pessoa, contra a árvore de decisão ou contra o MCTS).\n",
    "Como medir:\n",
    "- MCTS vs MCTS: fixar ambos com mesmo tempo por jogada (por ex. 5 s) e jogar N partidas, alternando quem começa:"
   ]
  },
  {
   "cell_type": "code",
   "execution_count": 43,
   "metadata": {},
   "outputs": [
    {
     "name": "stdout",
     "output_type": "stream",
     "text": [
      "=============================\n",
      "|   |   |   |   |   |   |   |\n",
      "|   |   |   |   |   |   |   |\n",
      "|   |   |   |   |   |   |   |\n",
      "|   |   |   |   |   |   |   |\n",
      "|   |   |   |   |   |   |   |\n",
      "|   |   |   |   |   |   |   |\n",
      "=============================\n",
      "MCTS O a pensar...\n",
      "MCTS O escolheu a coluna: 2\n",
      "=============================\n",
      "|   |   |   |   |   |   |   |\n",
      "|   |   |   |   |   |   |   |\n",
      "|   |   |   |   |   |   |   |\n",
      "|   |   |   |   |   |   |   |\n",
      "|   |   |   |   |   |   |   |\n",
      "|   |   |   |   |   |   |   |\n",
      "=============================\n",
      "MCTS X a pensar...\n",
      "MCTS X escolheu a coluna: 1\n",
      "=============================\n",
      "|   |   |   |   |   |   |   |\n",
      "|   |   |   |   |   |   |   |\n",
      "|   |   |   |   |   |   |   |\n",
      "|   |   |   |   |   |   |   |\n",
      "|   |   |   |   |   |   |   |\n",
      "|   | X |   |   |   |   |   |\n",
      "=============================\n",
      "MCTS O a pensar...\n",
      "MCTS O escolheu a coluna: 6\n",
      "=============================\n",
      "|   |   |   |   |   |   |   |\n",
      "|   |   |   |   |   |   |   |\n",
      "|   |   |   |   |   |   |   |\n",
      "|   |   |   |   |   |   |   |\n",
      "|   |   |   |   |   |   |   |\n",
      "|   | X |   |   |   |   | O |\n",
      "=============================\n",
      "MCTS X a pensar...\n",
      "MCTS X escolheu a coluna: 5\n",
      "=============================\n",
      "|   |   |   |   |   |   |   |\n",
      "|   |   |   |   |   |   |   |\n",
      "|   |   |   |   |   |   |   |\n",
      "|   |   |   |   |   |   |   |\n",
      "|   |   |   |   |   |   |   |\n",
      "|   | X |   |   |   | X | O |\n",
      "=============================\n",
      "MCTS O a pensar...\n",
      "MCTS O escolheu a coluna: 2\n",
      "=============================\n",
      "|   |   |   |   |   |   |   |\n",
      "|   |   |   |   |   |   |   |\n",
      "|   |   |   |   |   |   |   |\n",
      "|   |   |   |   |   |   |   |\n",
      "|   |   | O |   |   |   |   |\n",
      "|   | X |   |   |   | X | O |\n",
      "=============================\n",
      "MCTS X a pensar...\n",
      "MCTS X escolheu a coluna: 3\n",
      "=============================\n",
      "|   |   |   |   |   |   |   |\n",
      "|   |   |   |   |   |   |   |\n",
      "|   |   |   |   |   |   |   |\n",
      "|   |   |   |   |   |   |   |\n",
      "|   |   | O |   |   |   |   |\n",
      "|   | X |   | X |   | X | O |\n",
      "=============================\n",
      "MCTS O a pensar...\n",
      "MCTS O escolheu a coluna: 1\n",
      "=============================\n",
      "|   |   |   |   |   |   |   |\n",
      "|   |   |   |   |   |   |   |\n",
      "|   |   |   |   |   |   |   |\n",
      "|   |   |   |   |   |   |   |\n",
      "|   | O | O |   |   |   |   |\n",
      "|   | X |   | X |   | X | O |\n",
      "=============================\n",
      "MCTS X a pensar...\n",
      "MCTS X escolheu a coluna: 0\n",
      "=============================\n",
      "|   |   |   |   |   |   |   |\n",
      "|   |   |   |   |   |   |   |\n",
      "|   |   |   |   |   |   |   |\n",
      "|   |   |   |   |   |   |   |\n",
      "|   | O | O |   |   |   |   |\n",
      "| X | X |   | X |   | X | O |\n",
      "=============================\n",
      "MCTS O a pensar...\n",
      "MCTS O escolheu a coluna: 0\n",
      "=============================\n",
      "|   |   |   |   |   |   |   |\n",
      "|   |   |   |   |   |   |   |\n",
      "|   |   |   |   |   |   |   |\n",
      "|   |   |   |   |   |   |   |\n",
      "| O | O | O |   |   |   |   |\n",
      "| X | X |   | X |   | X | O |\n",
      "=============================\n",
      "MCTS X a pensar...\n",
      "MCTS X escolheu a coluna: 3\n",
      "=============================\n",
      "|   |   |   |   |   |   |   |\n",
      "|   |   |   |   |   |   |   |\n",
      "|   |   |   |   |   |   |   |\n",
      "|   |   |   |   |   |   |   |\n",
      "| O | O | O | X |   |   |   |\n",
      "| X | X |   | X |   | X | O |\n",
      "=============================\n",
      "MCTS O a pensar...\n",
      "MCTS O escolheu a coluna: 0\n",
      "=============================\n",
      "|   |   |   |   |   |   |   |\n",
      "|   |   |   |   |   |   |   |\n",
      "|   |   |   |   |   |   |   |\n",
      "| O |   |   |   |   |   |   |\n",
      "| O | O | O | X |   |   |   |\n",
      "| X | X |   | X |   | X | O |\n",
      "=============================\n",
      "MCTS X a pensar...\n",
      "MCTS X escolheu a coluna: 3\n",
      "=============================\n",
      "|   |   |   |   |   |   |   |\n",
      "|   |   |   |   |   |   |   |\n",
      "|   |   |   |   |   |   |   |\n",
      "| O |   |   | X |   |   |   |\n",
      "| O | O | O | X |   |   |   |\n",
      "| X | X |   | X |   | X | O |\n",
      "=============================\n",
      "MCTS O a pensar...\n",
      "MCTS O escolheu a coluna: 3\n",
      "=============================\n",
      "|   |   |   |   |   |   |   |\n",
      "|   |   |   |   |   |   |   |\n",
      "|   |   |   | O |   |   |   |\n",
      "| O |   |   | X |   |   |   |\n",
      "| O | O | O | X |   |   |   |\n",
      "| X | X |   | X |   | X | O |\n",
      "=============================\n",
      "MCTS X a pensar...\n",
      "MCTS X escolheu a coluna: 3\n",
      "=============================\n",
      "|   |   |   |   |   |   |   |\n",
      "|   |   |   | X |   |   |   |\n",
      "|   |   |   | O |   |   |   |\n",
      "| O |   |   | X |   |   |   |\n",
      "| O | O | O | X |   |   |   |\n",
      "| X | X |   | X |   | X | O |\n",
      "=============================\n",
      "MCTS O a pensar...\n",
      "MCTS O escolheu a coluna: 5\n",
      "=============================\n",
      "|   |   |   |   |   |   |   |\n",
      "|   |   |   | X |   |   |   |\n",
      "|   |   |   | O |   |   |   |\n",
      "| O |   |   | X |   |   |   |\n",
      "| O | O | O | X |   | O |   |\n",
      "| X | X |   | X |   | X | O |\n",
      "=============================\n",
      "MCTS X a pensar...\n",
      "MCTS X escolheu a coluna: 0\n",
      "=============================\n",
      "|   |   |   |   |   |   |   |\n",
      "|   |   |   | X |   |   |   |\n",
      "| X |   |   | O |   |   |   |\n",
      "| O |   |   | X |   |   |   |\n",
      "| O | O | O | X |   | O |   |\n",
      "| X | X |   | X |   | X | O |\n",
      "=============================\n",
      "MCTS O a pensar...\n",
      "MCTS O escolheu a coluna: 1\n",
      "=============================\n",
      "|   |   |   |   |   |   |   |\n",
      "|   |   |   | X |   |   |   |\n",
      "| X |   |   | O |   |   |   |\n",
      "| O | O |   | X |   |   |   |\n",
      "| O | O | O | X |   | O |   |\n",
      "| X | X |   | X |   | X | O |\n",
      "=============================\n",
      "MCTS X a pensar...\n",
      "MCTS X escolheu a coluna: 0\n",
      "=============================\n",
      "|   |   |   |   |   |   |   |\n",
      "| X |   |   | X |   |   |   |\n",
      "| X |   |   | O |   |   |   |\n",
      "| O | O |   | X |   |   |   |\n",
      "| O | O | O | X |   | O |   |\n",
      "| X | X |   | X |   | X | O |\n",
      "=============================\n",
      "MCTS O a pensar...\n",
      "MCTS O escolheu a coluna: 1\n",
      "=============================\n",
      "|   |   |   |   |   |   |   |\n",
      "| X |   |   | X |   |   |   |\n",
      "| X | O |   | O |   |   |   |\n",
      "| O | O |   | X |   |   |   |\n",
      "| O | O | O | X |   | O |   |\n",
      "| X | X |   | X |   | X | O |\n",
      "=============================\n",
      "MCTS X a pensar...\n",
      "MCTS X escolheu a coluna: 1\n",
      "=============================\n",
      "|   |   |   |   |   |   |   |\n",
      "| X | X |   | X |   |   |   |\n",
      "| X | O |   | O |   |   |   |\n",
      "| O | O |   | X |   |   |   |\n",
      "| O | O | O | X |   | O |   |\n",
      "| X | X |   | X |   | X | O |\n",
      "=============================\n",
      "MCTS O a pensar...\n",
      "MCTS O escolheu a coluna: 4\n",
      "=============================\n",
      "|   |   |   |   |   |   |   |\n",
      "| X | X |   | X |   |   |   |\n",
      "| X | O |   | O |   |   |   |\n",
      "| O | O |   | X |   |   |   |\n",
      "| O | O | O | X |   | O |   |\n",
      "| X | X |   | X | O | X | O |\n",
      "=============================\n",
      "MCTS X a pensar...\n",
      "MCTS X escolheu a coluna: 2\n",
      "=============================\n",
      "|   |   |   |   |   |   |   |\n",
      "| X | X |   | X |   |   |   |\n",
      "| X | O |   | O |   |   |   |\n",
      "| O | O | X | X |   |   |   |\n",
      "| O | O | O | X |   | O |   |\n",
      "| X | X |   | X | O | X | O |\n",
      "=============================\n",
      "MCTS O a pensar...\n",
      "MCTS O escolheu a coluna: 4\n",
      "=============================\n",
      "|   |   |   |   |   |   |   |\n",
      "| X | X |   | X |   |   |   |\n",
      "| X | O |   | O |   |   |   |\n",
      "| O | O | X | X |   |   |   |\n",
      "| O | O | O | X | O | O |   |\n",
      "| X | X |   | X | O | X | O |\n",
      "=============================\n",
      "MCTS X a pensar...\n",
      "MCTS X escolheu a coluna: 4\n",
      "=============================\n",
      "|   |   |   |   |   |   |   |\n",
      "| X | X |   | X |   |   |   |\n",
      "| X | O |   | O |   |   |   |\n",
      "| O | O | X | X | X |   |   |\n",
      "| O | O | O | X | O | O |   |\n",
      "| X | X |   | X | O | X | O |\n",
      "=============================\n",
      "MCTS O a pensar...\n",
      "MCTS O escolheu a coluna: 5\n",
      "=============================\n",
      "|   |   |   |   |   |   |   |\n",
      "| X | X |   | X |   |   |   |\n",
      "| X | O |   | O |   |   |   |\n",
      "| O | O | X | X | X | O |   |\n",
      "| O | O | O | X | O | O |   |\n",
      "| X | X |   | X | O | X | O |\n",
      "=============================\n",
      "MCTS X a pensar...\n",
      "MCTS X escolheu a coluna: 0\n",
      "=============================\n",
      "| X |   |   |   |   |   |   |\n",
      "| X | X |   | X |   |   |   |\n",
      "| X | O |   | O |   |   |   |\n",
      "| O | O | X | X | X | O |   |\n",
      "| O | O | O | X | O | O |   |\n",
      "| X | X |   | X | O | X | O |\n",
      "=============================\n",
      "MCTS O a pensar...\n",
      "MCTS O escolheu a coluna: 2\n",
      "=============================\n",
      "| X |   |   |   |   |   |   |\n",
      "| X | X |   | X |   |   |   |\n",
      "| X | O | O | O |   |   |   |\n",
      "| O | O | X | X | X | O |   |\n",
      "| O | O | O | X | O | O |   |\n",
      "| X | X |   | X | O | X | O |\n",
      "=============================\n",
      "MCTS X a pensar...\n",
      "MCTS X escolheu a coluna: 2\n",
      "=============================\n",
      "| X |   |   |   |   |   |   |\n",
      "| X | X | X | X |   |   |   |\n",
      "| X | O | O | O |   |   |   |\n",
      "| O | O | X | X | X | O |   |\n",
      "| O | O | O | X | O | O |   |\n",
      "| X | X |   | X | O | X | O |\n",
      "=============================\n",
      "Jogador 1 venceu!\n",
      "=============================\n",
      "|   |   |   |   |   |   |   |\n",
      "|   |   |   |   |   |   |   |\n",
      "|   |   |   |   |   |   |   |\n",
      "|   |   |   |   |   |   |   |\n",
      "|   |   |   |   |   |   |   |\n",
      "|   |   |   |   |   |   |   |\n",
      "=============================\n",
      "MCTS O a pensar...\n",
      "MCTS O escolheu a coluna: 3\n",
      "=============================\n",
      "|   |   |   |   |   |   |   |\n",
      "|   |   |   |   |   |   |   |\n",
      "|   |   |   |   |   |   |   |\n",
      "|   |   |   |   |   |   |   |\n",
      "|   |   |   |   |   |   |   |\n",
      "|   |   |   |   |   |   |   |\n",
      "=============================\n",
      "MCTS X a pensar...\n",
      "MCTS X escolheu a coluna: 3\n",
      "=============================\n",
      "|   |   |   |   |   |   |   |\n",
      "|   |   |   |   |   |   |   |\n",
      "|   |   |   |   |   |   |   |\n",
      "|   |   |   |   |   |   |   |\n",
      "|   |   |   | X |   |   |   |\n",
      "|   |   |   |   |   |   |   |\n",
      "=============================\n",
      "MCTS O a pensar...\n",
      "MCTS O escolheu a coluna: 3\n",
      "=============================\n",
      "|   |   |   |   |   |   |   |\n",
      "|   |   |   |   |   |   |   |\n",
      "|   |   |   |   |   |   |   |\n",
      "|   |   |   | O |   |   |   |\n",
      "|   |   |   | X |   |   |   |\n",
      "|   |   |   |   |   |   |   |\n",
      "=============================\n",
      "MCTS X a pensar...\n",
      "MCTS X escolheu a coluna: 6\n",
      "=============================\n",
      "|   |   |   |   |   |   |   |\n",
      "|   |   |   |   |   |   |   |\n",
      "|   |   |   |   |   |   |   |\n",
      "|   |   |   | O |   |   |   |\n",
      "|   |   |   | X |   |   |   |\n",
      "|   |   |   |   |   |   | X |\n",
      "=============================\n",
      "MCTS O a pensar...\n",
      "MCTS O escolheu a coluna: 5\n",
      "=============================\n",
      "|   |   |   |   |   |   |   |\n",
      "|   |   |   |   |   |   |   |\n",
      "|   |   |   |   |   |   |   |\n",
      "|   |   |   | O |   |   |   |\n",
      "|   |   |   | X |   |   |   |\n",
      "|   |   |   |   |   | O | X |\n",
      "=============================\n",
      "MCTS X a pensar...\n",
      "MCTS X escolheu a coluna: 1\n",
      "=============================\n",
      "|   |   |   |   |   |   |   |\n",
      "|   |   |   |   |   |   |   |\n",
      "|   |   |   |   |   |   |   |\n",
      "|   |   |   | O |   |   |   |\n",
      "|   |   |   | X |   |   |   |\n",
      "|   | X |   |   |   | O | X |\n",
      "=============================\n",
      "MCTS O a pensar...\n",
      "MCTS O escolheu a coluna: 1\n",
      "=============================\n",
      "|   |   |   |   |   |   |   |\n",
      "|   |   |   |   |   |   |   |\n",
      "|   |   |   |   |   |   |   |\n",
      "|   |   |   | O |   |   |   |\n",
      "|   | O |   | X |   |   |   |\n",
      "|   | X |   |   |   | O | X |\n",
      "=============================\n",
      "MCTS X a pensar...\n",
      "MCTS X escolheu a coluna: 2\n",
      "=============================\n",
      "|   |   |   |   |   |   |   |\n",
      "|   |   |   |   |   |   |   |\n",
      "|   |   |   |   |   |   |   |\n",
      "|   |   |   | O |   |   |   |\n",
      "|   | O |   | X |   |   |   |\n",
      "|   | X | X |   |   | O | X |\n",
      "=============================\n",
      "MCTS O a pensar...\n",
      "MCTS O escolheu a coluna: 1\n",
      "=============================\n",
      "|   |   |   |   |   |   |   |\n",
      "|   |   |   |   |   |   |   |\n",
      "|   |   |   |   |   |   |   |\n",
      "|   | O |   | O |   |   |   |\n",
      "|   | O |   | X |   |   |   |\n",
      "|   | X | X |   |   | O | X |\n",
      "=============================\n",
      "MCTS X a pensar...\n",
      "MCTS X escolheu a coluna: 2\n",
      "=============================\n",
      "|   |   |   |   |   |   |   |\n",
      "|   |   |   |   |   |   |   |\n",
      "|   |   |   |   |   |   |   |\n",
      "|   | O |   | O |   |   |   |\n",
      "|   | O | X | X |   |   |   |\n",
      "|   | X | X |   |   | O | X |\n",
      "=============================\n",
      "MCTS O a pensar...\n",
      "MCTS O escolheu a coluna: 1\n",
      "=============================\n",
      "|   |   |   |   |   |   |   |\n",
      "|   |   |   |   |   |   |   |\n",
      "|   | O |   |   |   |   |   |\n",
      "|   | O |   | O |   |   |   |\n",
      "|   | O | X | X |   |   |   |\n",
      "|   | X | X |   |   | O | X |\n",
      "=============================\n",
      "MCTS X a pensar...\n",
      "MCTS X escolheu a coluna: 1\n",
      "=============================\n",
      "|   |   |   |   |   |   |   |\n",
      "|   | X |   |   |   |   |   |\n",
      "|   | O |   |   |   |   |   |\n",
      "|   | O |   | O |   |   |   |\n",
      "|   | O | X | X |   |   |   |\n",
      "|   | X | X |   |   | O | X |\n",
      "=============================\n",
      "MCTS O a pensar...\n",
      "MCTS O escolheu a coluna: 4\n",
      "=============================\n",
      "|   |   |   |   |   |   |   |\n",
      "|   | X |   |   |   |   |   |\n",
      "|   | O |   |   |   |   |   |\n",
      "|   | O |   | O |   |   |   |\n",
      "|   | O | X | X |   |   |   |\n",
      "|   | X | X |   | O | O | X |\n",
      "=============================\n",
      "MCTS X a pensar...\n",
      "MCTS X escolheu a coluna: 5\n",
      "=============================\n",
      "|   |   |   |   |   |   |   |\n",
      "|   | X |   |   |   |   |   |\n",
      "|   | O |   |   |   |   |   |\n",
      "|   | O |   | O |   |   |   |\n",
      "|   | O | X | X |   | X |   |\n",
      "|   | X | X |   | O | O | X |\n",
      "=============================\n",
      "MCTS O a pensar...\n",
      "MCTS O escolheu a coluna: 4\n",
      "=============================\n",
      "|   |   |   |   |   |   |   |\n",
      "|   | X |   |   |   |   |   |\n",
      "|   | O |   |   |   |   |   |\n",
      "|   | O |   | O |   |   |   |\n",
      "|   | O | X | X | O | X |   |\n",
      "|   | X | X |   | O | O | X |\n",
      "=============================\n",
      "MCTS X a pensar...\n",
      "MCTS X escolheu a coluna: 4\n",
      "=============================\n",
      "|   |   |   |   |   |   |   |\n",
      "|   | X |   |   |   |   |   |\n",
      "|   | O |   |   |   |   |   |\n",
      "|   | O |   | O | X |   |   |\n",
      "|   | O | X | X | O | X |   |\n",
      "|   | X | X |   | O | O | X |\n",
      "=============================\n",
      "MCTS O a pensar...\n",
      "MCTS O escolheu a coluna: 3\n",
      "=============================\n",
      "|   |   |   |   |   |   |   |\n",
      "|   | X |   |   |   |   |   |\n",
      "|   | O |   | O |   |   |   |\n",
      "|   | O |   | O | X |   |   |\n",
      "|   | O | X | X | O | X |   |\n",
      "|   | X | X |   | O | O | X |\n",
      "=============================\n",
      "MCTS X a pensar...\n",
      "MCTS X escolheu a coluna: 0\n",
      "=============================\n",
      "|   |   |   |   |   |   |   |\n",
      "|   | X |   |   |   |   |   |\n",
      "|   | O |   | O |   |   |   |\n",
      "|   | O |   | O | X |   |   |\n",
      "|   | O | X | X | O | X |   |\n",
      "| X | X | X |   | O | O | X |\n",
      "=============================\n",
      "MCTS O a pensar...\n",
      "MCTS O escolheu a coluna: 2\n",
      "=============================\n",
      "|   |   |   |   |   |   |   |\n",
      "|   | X |   |   |   |   |   |\n",
      "|   | O |   | O |   |   |   |\n",
      "|   | O | O | O | X |   |   |\n",
      "|   | O | X | X | O | X |   |\n",
      "| X | X | X |   | O | O | X |\n",
      "=============================\n",
      "MCTS X a pensar...\n",
      "MCTS X escolheu a coluna: 2\n",
      "=============================\n",
      "|   |   |   |   |   |   |   |\n",
      "|   | X |   |   |   |   |   |\n",
      "|   | O | X | O |   |   |   |\n",
      "|   | O | O | O | X |   |   |\n",
      "|   | O | X | X | O | X |   |\n",
      "| X | X | X |   | O | O | X |\n",
      "=============================\n",
      "MCTS O a pensar...\n",
      "MCTS O escolheu a coluna: 0\n",
      "=============================\n",
      "|   |   |   |   |   |   |   |\n",
      "|   | X |   |   |   |   |   |\n",
      "|   | O | X | O |   |   |   |\n",
      "|   | O | O | O | X |   |   |\n",
      "| O | O | X | X | O | X |   |\n",
      "| X | X | X |   | O | O | X |\n",
      "=============================\n",
      "MCTS X a pensar...\n",
      "MCTS X escolheu a coluna: 0\n",
      "=============================\n",
      "|   |   |   |   |   |   |   |\n",
      "|   | X |   |   |   |   |   |\n",
      "|   | O | X | O |   |   |   |\n",
      "| X | O | O | O | X |   |   |\n",
      "| O | O | X | X | O | X |   |\n",
      "| X | X | X |   | O | O | X |\n",
      "=============================\n",
      "MCTS O a pensar...\n",
      "MCTS O escolheu a coluna: 4\n",
      "=============================\n",
      "|   |   |   |   |   |   |   |\n",
      "|   | X |   |   |   |   |   |\n",
      "|   | O | X | O | O |   |   |\n",
      "| X | O | O | O | X |   |   |\n",
      "| O | O | X | X | O | X |   |\n",
      "| X | X | X |   | O | O | X |\n",
      "=============================\n",
      "MCTS X a pensar...\n",
      "MCTS X escolheu a coluna: 4\n",
      "=============================\n",
      "|   |   |   |   |   |   |   |\n",
      "|   | X |   |   | X |   |   |\n",
      "|   | O | X | O | O |   |   |\n",
      "| X | O | O | O | X |   |   |\n",
      "| O | O | X | X | O | X |   |\n",
      "| X | X | X |   | O | O | X |\n",
      "=============================\n",
      "MCTS O a pensar...\n",
      "MCTS O escolheu a coluna: 3\n",
      "=============================\n",
      "|   |   |   |   |   |   |   |\n",
      "|   | X |   | O | X |   |   |\n",
      "|   | O | X | O | O |   |   |\n",
      "| X | O | O | O | X |   |   |\n",
      "| O | O | X | X | O | X |   |\n",
      "| X | X | X |   | O | O | X |\n",
      "=============================\n",
      "MCTS X a pensar...\n",
      "MCTS X escolheu a coluna: 3\n",
      "=============================\n",
      "|   |   |   | X |   |   |   |\n",
      "|   | X |   | O | X |   |   |\n",
      "|   | O | X | O | O |   |   |\n",
      "| X | O | O | O | X |   |   |\n",
      "| O | O | X | X | O | X |   |\n",
      "| X | X | X |   | O | O | X |\n",
      "=============================\n",
      "MCTS O a pensar...\n",
      "MCTS O escolheu a coluna: 6\n",
      "=============================\n",
      "|   |   |   | X |   |   |   |\n",
      "|   | X |   | O | X |   |   |\n",
      "|   | O | X | O | O |   |   |\n",
      "| X | O | O | O | X |   |   |\n",
      "| O | O | X | X | O | X | O |\n",
      "| X | X | X |   | O | O | X |\n",
      "=============================\n",
      "MCTS X a pensar...\n",
      "MCTS X escolheu a coluna: 5\n",
      "=============================\n",
      "|   |   |   | X |   |   |   |\n",
      "|   | X |   | O | X |   |   |\n",
      "|   | O | X | O | O |   |   |\n",
      "| X | O | O | O | X | X |   |\n",
      "| O | O | X | X | O | X | O |\n",
      "| X | X | X |   | O | O | X |\n",
      "=============================\n",
      "MCTS O a pensar...\n",
      "MCTS O escolheu a coluna: 5\n",
      "=============================\n",
      "|   |   |   | X |   |   |   |\n",
      "|   | X |   | O | X |   |   |\n",
      "|   | O | X | O | O | O |   |\n",
      "| X | O | O | O | X | X |   |\n",
      "| O | O | X | X | O | X | O |\n",
      "| X | X | X |   | O | O | X |\n",
      "=============================\n",
      "MCTS X a pensar...\n",
      "MCTS X escolheu a coluna: 4\n",
      "=============================\n",
      "|   |   |   | X | X |   |   |\n",
      "|   | X |   | O | X |   |   |\n",
      "|   | O | X | O | O | O |   |\n",
      "| X | O | O | O | X | X |   |\n",
      "| O | O | X | X | O | X | O |\n",
      "| X | X | X |   | O | O | X |\n",
      "=============================\n",
      "MCTS O a pensar...\n",
      "MCTS O escolheu a coluna: 6\n",
      "=============================\n",
      "|   |   |   | X | X |   |   |\n",
      "|   | X |   | O | X |   |   |\n",
      "|   | O | X | O | O | O |   |\n",
      "| X | O | O | O | X | X | O |\n",
      "| O | O | X | X | O | X | O |\n",
      "| X | X | X |   | O | O | X |\n",
      "=============================\n",
      "MCTS X a pensar...\n",
      "MCTS X escolheu a coluna: 6\n",
      "=============================\n",
      "|   |   |   | X | X |   |   |\n",
      "|   | X |   | O | X |   |   |\n",
      "|   | O | X | O | O | O | X |\n",
      "| X | O | O | O | X | X | O |\n",
      "| O | O | X | X | O | X | O |\n",
      "| X | X | X |   | O | O | X |\n",
      "=============================\n",
      "MCTS O a pensar...\n",
      "MCTS O escolheu a coluna: 0\n",
      "=============================\n",
      "|   |   |   | X | X |   |   |\n",
      "|   | X |   | O | X |   |   |\n",
      "| O | O | X | O | O | O | X |\n",
      "| X | O | O | O | X | X | O |\n",
      "| O | O | X | X | O | X | O |\n",
      "| X | X | X |   | O | O | X |\n",
      "=============================\n",
      "MCTS X a pensar...\n",
      "MCTS X escolheu a coluna: 1\n",
      "=============================\n",
      "|   | X |   | X | X |   |   |\n",
      "|   | X |   | O | X |   |   |\n",
      "| O | O | X | O | O | O | X |\n",
      "| X | O | O | O | X | X | O |\n",
      "| O | O | X | X | O | X | O |\n",
      "| X | X | X |   | O | O | X |\n",
      "=============================\n",
      "MCTS O a pensar...\n",
      "MCTS O escolheu a coluna: 0\n",
      "=============================\n",
      "|   | X |   | X | X |   |   |\n",
      "| O | X |   | O | X |   |   |\n",
      "| O | O | X | O | O | O | X |\n",
      "| X | O | O | O | X | X | O |\n",
      "| O | O | X | X | O | X | O |\n",
      "| X | X | X |   | O | O | X |\n",
      "=============================\n",
      "MCTS X a pensar...\n",
      "MCTS X escolheu a coluna: 0\n",
      "=============================\n",
      "| X | X |   | X | X |   |   |\n",
      "| O | X |   | O | X |   |   |\n",
      "| O | O | X | O | O | O | X |\n",
      "| X | O | O | O | X | X | O |\n",
      "| O | O | X | X | O | X | O |\n",
      "| X | X | X |   | O | O | X |\n",
      "=============================\n",
      "MCTS O a pensar...\n",
      "MCTS O escolheu a coluna: 5\n",
      "=============================\n",
      "| X | X |   | X | X |   |   |\n",
      "| O | X |   | O | X | O |   |\n",
      "| O | O | X | O | O | O | X |\n",
      "| X | O | O | O | X | X | O |\n",
      "| O | O | X | X | O | X | O |\n",
      "| X | X | X |   | O | O | X |\n",
      "=============================\n",
      "MCTS X a pensar...\n",
      "MCTS X escolheu a coluna: 5\n",
      "=============================\n",
      "| X | X |   | X | X | X |   |\n",
      "| O | X |   | O | X | O |   |\n",
      "| O | O | X | O | O | O | X |\n",
      "| X | O | O | O | X | X | O |\n",
      "| O | O | X | X | O | X | O |\n",
      "| X | X | X |   | O | O | X |\n",
      "=============================\n",
      "MCTS O a pensar...\n",
      "MCTS O escolheu a coluna: 6\n",
      "=============================\n",
      "| X | X |   | X | X | X |   |\n",
      "| O | X |   | O | X | O | O |\n",
      "| O | O | X | O | O | O | X |\n",
      "| X | O | O | O | X | X | O |\n",
      "| O | O | X | X | O | X | O |\n",
      "| X | X | X |   | O | O | X |\n",
      "=============================\n",
      "MCTS X a pensar...\n",
      "MCTS X escolheu a coluna: 6\n",
      "=============================\n",
      "| X | X |   | X | X | X | X |\n",
      "| O | X |   | O | X | O | O |\n",
      "| O | O | X | O | O | O | X |\n",
      "| X | O | O | O | X | X | O |\n",
      "| O | O | X | X | O | X | O |\n",
      "| X | X | X |   | O | O | X |\n",
      "=============================\n",
      "Jogador 1 venceu!\n",
      "=============================\n",
      "|   |   |   |   |   |   |   |\n",
      "|   |   |   |   |   |   |   |\n",
      "|   |   |   |   |   |   |   |\n",
      "|   |   |   |   |   |   |   |\n",
      "|   |   |   |   |   |   |   |\n",
      "|   |   |   |   |   |   |   |\n",
      "=============================\n",
      "MCTS O a pensar...\n",
      "MCTS O escolheu a coluna: 4\n",
      "=============================\n",
      "|   |   |   |   |   |   |   |\n",
      "|   |   |   |   |   |   |   |\n",
      "|   |   |   |   |   |   |   |\n",
      "|   |   |   |   |   |   |   |\n",
      "|   |   |   |   |   |   |   |\n",
      "|   |   |   |   |   |   |   |\n",
      "=============================\n",
      "MCTS X a pensar...\n",
      "MCTS X escolheu a coluna: 2\n",
      "=============================\n",
      "|   |   |   |   |   |   |   |\n",
      "|   |   |   |   |   |   |   |\n",
      "|   |   |   |   |   |   |   |\n",
      "|   |   |   |   |   |   |   |\n",
      "|   |   |   |   |   |   |   |\n",
      "|   |   | X |   |   |   |   |\n",
      "=============================\n",
      "MCTS O a pensar...\n",
      "MCTS O escolheu a coluna: 2\n",
      "=============================\n",
      "|   |   |   |   |   |   |   |\n",
      "|   |   |   |   |   |   |   |\n",
      "|   |   |   |   |   |   |   |\n",
      "|   |   |   |   |   |   |   |\n",
      "|   |   | O |   |   |   |   |\n",
      "|   |   | X |   |   |   |   |\n",
      "=============================\n",
      "MCTS X a pensar...\n",
      "MCTS X escolheu a coluna: 1\n",
      "=============================\n",
      "|   |   |   |   |   |   |   |\n",
      "|   |   |   |   |   |   |   |\n",
      "|   |   |   |   |   |   |   |\n",
      "|   |   |   |   |   |   |   |\n",
      "|   |   | O |   |   |   |   |\n",
      "|   | X | X |   |   |   |   |\n",
      "=============================\n",
      "MCTS O a pensar...\n",
      "MCTS O escolheu a coluna: 4\n",
      "=============================\n",
      "|   |   |   |   |   |   |   |\n",
      "|   |   |   |   |   |   |   |\n",
      "|   |   |   |   |   |   |   |\n",
      "|   |   |   |   |   |   |   |\n",
      "|   |   | O |   | O |   |   |\n",
      "|   | X | X |   |   |   |   |\n",
      "=============================\n",
      "MCTS X a pensar...\n",
      "MCTS X escolheu a coluna: 0\n",
      "=============================\n",
      "|   |   |   |   |   |   |   |\n",
      "|   |   |   |   |   |   |   |\n",
      "|   |   |   |   |   |   |   |\n",
      "|   |   |   |   |   |   |   |\n",
      "|   |   | O |   | O |   |   |\n",
      "| X | X | X |   |   |   |   |\n",
      "=============================\n",
      "MCTS O a pensar...\n",
      "MCTS O escolheu a coluna: 3\n",
      "=============================\n",
      "|   |   |   |   |   |   |   |\n",
      "|   |   |   |   |   |   |   |\n",
      "|   |   |   |   |   |   |   |\n",
      "|   |   |   |   |   |   |   |\n",
      "|   |   | O |   | O |   |   |\n",
      "| X | X | X | O |   |   |   |\n",
      "=============================\n",
      "MCTS X a pensar...\n",
      "MCTS X escolheu a coluna: 1\n",
      "=============================\n",
      "|   |   |   |   |   |   |   |\n",
      "|   |   |   |   |   |   |   |\n",
      "|   |   |   |   |   |   |   |\n",
      "|   |   |   |   |   |   |   |\n",
      "|   | X | O |   | O |   |   |\n",
      "| X | X | X | O |   |   |   |\n",
      "=============================\n",
      "MCTS O a pensar...\n",
      "MCTS O escolheu a coluna: 5\n",
      "=============================\n",
      "|   |   |   |   |   |   |   |\n",
      "|   |   |   |   |   |   |   |\n",
      "|   |   |   |   |   |   |   |\n",
      "|   |   |   |   |   |   |   |\n",
      "|   | X | O |   | O |   |   |\n",
      "| X | X | X | O |   | O |   |\n",
      "=============================\n",
      "MCTS X a pensar...\n",
      "MCTS X escolheu a coluna: 1\n",
      "=============================\n",
      "|   |   |   |   |   |   |   |\n",
      "|   |   |   |   |   |   |   |\n",
      "|   |   |   |   |   |   |   |\n",
      "|   | X |   |   |   |   |   |\n",
      "|   | X | O |   | O |   |   |\n",
      "| X | X | X | O |   | O |   |\n",
      "=============================\n",
      "MCTS O a pensar...\n",
      "MCTS O escolheu a coluna: 1\n",
      "=============================\n",
      "|   |   |   |   |   |   |   |\n",
      "|   |   |   |   |   |   |   |\n",
      "|   | O |   |   |   |   |   |\n",
      "|   | X |   |   |   |   |   |\n",
      "|   | X | O |   | O |   |   |\n",
      "| X | X | X | O |   | O |   |\n",
      "=============================\n",
      "MCTS X a pensar...\n",
      "MCTS X escolheu a coluna: 3\n",
      "=============================\n",
      "|   |   |   |   |   |   |   |\n",
      "|   |   |   |   |   |   |   |\n",
      "|   | O |   |   |   |   |   |\n",
      "|   | X |   |   |   |   |   |\n",
      "|   | X | O | X | O |   |   |\n",
      "| X | X | X | O |   | O |   |\n",
      "=============================\n",
      "MCTS O a pensar...\n",
      "MCTS O escolheu a coluna: 1\n",
      "=============================\n",
      "|   |   |   |   |   |   |   |\n",
      "|   | O |   |   |   |   |   |\n",
      "|   | O |   |   |   |   |   |\n",
      "|   | X |   |   |   |   |   |\n",
      "|   | X | O | X | O |   |   |\n",
      "| X | X | X | O |   | O |   |\n",
      "=============================\n",
      "MCTS X a pensar...\n",
      "MCTS X escolheu a coluna: 6\n",
      "=============================\n",
      "|   |   |   |   |   |   |   |\n",
      "|   | O |   |   |   |   |   |\n",
      "|   | O |   |   |   |   |   |\n",
      "|   | X |   |   |   |   |   |\n",
      "|   | X | O | X | O |   |   |\n",
      "| X | X | X | O |   | O | X |\n",
      "=============================\n",
      "MCTS O a pensar...\n",
      "MCTS O escolheu a coluna: 4\n",
      "=============================\n",
      "|   |   |   |   |   |   |   |\n",
      "|   | O |   |   |   |   |   |\n",
      "|   | O |   |   |   |   |   |\n",
      "|   | X |   |   | O |   |   |\n",
      "|   | X | O | X | O |   |   |\n",
      "| X | X | X | O |   | O | X |\n",
      "=============================\n",
      "MCTS X a pensar...\n",
      "MCTS X escolheu a coluna: 5\n",
      "=============================\n",
      "|   |   |   |   |   |   |   |\n",
      "|   | O |   |   |   |   |   |\n",
      "|   | O |   |   |   |   |   |\n",
      "|   | X |   |   | O |   |   |\n",
      "|   | X | O | X | O | X |   |\n",
      "| X | X | X | O |   | O | X |\n",
      "=============================\n",
      "MCTS O a pensar...\n",
      "MCTS O escolheu a coluna: 4\n",
      "=============================\n",
      "|   |   |   |   |   |   |   |\n",
      "|   | O |   |   |   |   |   |\n",
      "|   | O |   |   | O |   |   |\n",
      "|   | X |   |   | O |   |   |\n",
      "|   | X | O | X | O | X |   |\n",
      "| X | X | X | O |   | O | X |\n",
      "=============================\n",
      "MCTS X a pensar...\n",
      "MCTS X escolheu a coluna: 4\n",
      "=============================\n",
      "|   |   |   |   |   |   |   |\n",
      "|   | O |   |   | X |   |   |\n",
      "|   | O |   |   | O |   |   |\n",
      "|   | X |   |   | O |   |   |\n",
      "|   | X | O | X | O | X |   |\n",
      "| X | X | X | O |   | O | X |\n",
      "=============================\n",
      "MCTS O a pensar...\n",
      "MCTS O escolheu a coluna: 3\n",
      "=============================\n",
      "|   |   |   |   |   |   |   |\n",
      "|   | O |   |   | X |   |   |\n",
      "|   | O |   |   | O |   |   |\n",
      "|   | X |   | O | O |   |   |\n",
      "|   | X | O | X | O | X |   |\n",
      "| X | X | X | O |   | O | X |\n",
      "=============================\n",
      "MCTS X a pensar...\n",
      "MCTS X escolheu a coluna: 5\n",
      "=============================\n",
      "|   |   |   |   |   |   |   |\n",
      "|   | O |   |   | X |   |   |\n",
      "|   | O |   |   | O |   |   |\n",
      "|   | X |   | O | O | X |   |\n",
      "|   | X | O | X | O | X |   |\n",
      "| X | X | X | O |   | O | X |\n",
      "=============================\n",
      "MCTS O a pensar...\n",
      "MCTS O escolheu a coluna: 5\n",
      "=============================\n",
      "|   |   |   |   |   |   |   |\n",
      "|   | O |   |   | X |   |   |\n",
      "|   | O |   |   | O | O |   |\n",
      "|   | X |   | O | O | X |   |\n",
      "|   | X | O | X | O | X |   |\n",
      "| X | X | X | O |   | O | X |\n",
      "=============================\n",
      "MCTS X a pensar...\n",
      "MCTS X escolheu a coluna: 5\n",
      "=============================\n",
      "|   |   |   |   |   |   |   |\n",
      "|   | O |   |   | X | X |   |\n",
      "|   | O |   |   | O | O |   |\n",
      "|   | X |   | O | O | X |   |\n",
      "|   | X | O | X | O | X |   |\n",
      "| X | X | X | O |   | O | X |\n",
      "=============================\n",
      "MCTS O a pensar...\n",
      "MCTS O escolheu a coluna: 2\n",
      "=============================\n",
      "|   |   |   |   |   |   |   |\n",
      "|   | O |   |   | X | X |   |\n",
      "|   | O |   |   | O | O |   |\n",
      "|   | X | O | O | O | X |   |\n",
      "|   | X | O | X | O | X |   |\n",
      "| X | X | X | O |   | O | X |\n",
      "=============================\n",
      "MCTS X a pensar...\n",
      "MCTS X escolheu a coluna: 2\n",
      "=============================\n",
      "|   |   |   |   |   |   |   |\n",
      "|   | O |   |   | X | X |   |\n",
      "|   | O | X |   | O | O |   |\n",
      "|   | X | O | O | O | X |   |\n",
      "|   | X | O | X | O | X |   |\n",
      "| X | X | X | O |   | O | X |\n",
      "=============================\n",
      "MCTS O a pensar...\n",
      "MCTS O escolheu a coluna: 2\n",
      "=============================\n",
      "|   |   |   |   |   |   |   |\n",
      "|   | O | O |   | X | X |   |\n",
      "|   | O | X |   | O | O |   |\n",
      "|   | X | O | O | O | X |   |\n",
      "|   | X | O | X | O | X |   |\n",
      "| X | X | X | O |   | O | X |\n",
      "=============================\n",
      "MCTS X a pensar...\n",
      "MCTS X escolheu a coluna: 3\n",
      "=============================\n",
      "|   |   |   |   |   |   |   |\n",
      "|   | O | O |   | X | X |   |\n",
      "|   | O | X | X | O | O |   |\n",
      "|   | X | O | O | O | X |   |\n",
      "|   | X | O | X | O | X |   |\n",
      "| X | X | X | O |   | O | X |\n",
      "=============================\n",
      "MCTS O a pensar...\n",
      "MCTS O escolheu a coluna: 0\n",
      "=============================\n",
      "|   |   |   |   |   |   |   |\n",
      "|   | O | O |   | X | X |   |\n",
      "|   | O | X | X | O | O |   |\n",
      "|   | X | O | O | O | X |   |\n",
      "| O | X | O | X | O | X |   |\n",
      "| X | X | X | O |   | O | X |\n",
      "=============================\n",
      "MCTS X a pensar...\n",
      "MCTS X escolheu a coluna: 3\n",
      "=============================\n",
      "|   |   |   |   |   |   |   |\n",
      "|   | O | O | X | X | X |   |\n",
      "|   | O | X | X | O | O |   |\n",
      "|   | X | O | O | O | X |   |\n",
      "| O | X | O | X | O | X |   |\n",
      "| X | X | X | O |   | O | X |\n",
      "=============================\n",
      "MCTS O a pensar...\n",
      "MCTS O escolheu a coluna: 4\n",
      "=============================\n",
      "|   |   |   |   | O |   |   |\n",
      "|   | O | O | X | X | X |   |\n",
      "|   | O | X | X | O | O |   |\n",
      "|   | X | O | O | O | X |   |\n",
      "| O | X | O | X | O | X |   |\n",
      "| X | X | X | O |   | O | X |\n",
      "=============================\n",
      "MCTS X a pensar...\n",
      "MCTS X escolheu a coluna: 3\n",
      "=============================\n",
      "|   |   |   | X | O |   |   |\n",
      "|   | O | O | X | X | X |   |\n",
      "|   | O | X | X | O | O |   |\n",
      "|   | X | O | O | O | X |   |\n",
      "| O | X | O | X | O | X |   |\n",
      "| X | X | X | O |   | O | X |\n",
      "=============================\n",
      "MCTS O a pensar...\n",
      "MCTS O escolheu a coluna: 6\n",
      "=============================\n",
      "|   |   |   | X | O |   |   |\n",
      "|   | O | O | X | X | X |   |\n",
      "|   | O | X | X | O | O |   |\n",
      "|   | X | O | O | O | X |   |\n",
      "| O | X | O | X | O | X | O |\n",
      "| X | X | X | O |   | O | X |\n",
      "=============================\n",
      "MCTS X a pensar...\n",
      "MCTS X escolheu a coluna: 2\n",
      "=============================\n",
      "|   |   | X | X | O |   |   |\n",
      "|   | O | O | X | X | X |   |\n",
      "|   | O | X | X | O | O |   |\n",
      "|   | X | O | O | O | X |   |\n",
      "| O | X | O | X | O | X | O |\n",
      "| X | X | X | O |   | O | X |\n",
      "=============================\n",
      "MCTS O a pensar...\n",
      "MCTS O escolheu a coluna: 0\n",
      "=============================\n",
      "|   |   | X | X | O |   |   |\n",
      "|   | O | O | X | X | X |   |\n",
      "|   | O | X | X | O | O |   |\n",
      "| O | X | O | O | O | X |   |\n",
      "| O | X | O | X | O | X | O |\n",
      "| X | X | X | O |   | O | X |\n",
      "=============================\n",
      "MCTS X a pensar...\n",
      "MCTS X escolheu a coluna: 1\n",
      "=============================\n",
      "|   | X | X | X | O |   |   |\n",
      "|   | O | O | X | X | X |   |\n",
      "|   | O | X | X | O | O |   |\n",
      "| O | X | O | O | O | X |   |\n",
      "| O | X | O | X | O | X | O |\n",
      "| X | X | X | O |   | O | X |\n",
      "=============================\n",
      "MCTS O a pensar...\n",
      "MCTS O escolheu a coluna: 6\n",
      "=============================\n",
      "|   | X | X | X | O |   |   |\n",
      "|   | O | O | X | X | X |   |\n",
      "|   | O | X | X | O | O |   |\n",
      "| O | X | O | O | O | X | O |\n",
      "| O | X | O | X | O | X | O |\n",
      "| X | X | X | O |   | O | X |\n",
      "=============================\n",
      "MCTS X a pensar...\n",
      "MCTS X escolheu a coluna: 0\n",
      "=============================\n",
      "|   | X | X | X | O |   |   |\n",
      "|   | O | O | X | X | X |   |\n",
      "| X | O | X | X | O | O |   |\n",
      "| O | X | O | O | O | X | O |\n",
      "| O | X | O | X | O | X | O |\n",
      "| X | X | X | O |   | O | X |\n",
      "=============================\n",
      "MCTS O a pensar...\n",
      "MCTS O escolheu a coluna: 6\n",
      "=============================\n",
      "|   | X | X | X | O |   |   |\n",
      "|   | O | O | X | X | X |   |\n",
      "| X | O | X | X | O | O | O |\n",
      "| O | X | O | O | O | X | O |\n",
      "| O | X | O | X | O | X | O |\n",
      "| X | X | X | O |   | O | X |\n",
      "=============================\n",
      "MCTS X a pensar...\n",
      "MCTS X escolheu a coluna: 6\n",
      "=============================\n",
      "|   | X | X | X | O |   |   |\n",
      "|   | O | O | X | X | X | X |\n",
      "| X | O | X | X | O | O | O |\n",
      "| O | X | O | O | O | X | O |\n",
      "| O | X | O | X | O | X | O |\n",
      "| X | X | X | O |   | O | X |\n",
      "=============================\n",
      "Jogador 1 venceu!\n",
      "Taxa de vitórias do Jogador 1: 100.00%\n",
      "Taxa de vitórias do Jogador 2: 0.00%\n"
     ]
    }
   ],
   "source": [
    "from game import play_ai_vs_ai #não usado no jogo, definido no ficheiro game.py\n",
    "from mcts import MCTS, Node\n",
    "N = 3\n",
    "wins1 = 0\n",
    "wins2 = 0\n",
    "for _ in range(N):\n",
    "    state1 = ConnectState()\n",
    "    state2 = ConnectState()\n",
    "    mcts1 = MCTS(state1)\n",
    "    mcts2 = MCTS(state2)\n",
    "    outcome = play_ai_vs_ai(mcts1)\n",
    "    if outcome == 1:\n",
    "        wins1 += 1\n",
    "        print(\"Jogador 1 venceu!\")\n",
    "    elif outcome == 2:\n",
    "        wins2 += 1\n",
    "        print(\"Jogador 2 venceu!\")\n",
    "    else:\n",
    "        print(\"Empate!\")\n",
    "win_rate1 = wins1 / N\n",
    "win_rate2 = wins2 / N\n",
    "print(f\"Taxa de vitórias do Jogador 1: {win_rate1:.2%}\")\n",
    "print(f\"Taxa de vitórias do Jogador 2: {win_rate2:.2%}\")"
   ]
  },
  {
   "cell_type": "markdown",
   "metadata": {},
   "source": [
    "- MCTS vs Árvore de Decisão: MCTS com X s/jogada vs árvore que responde instantaneamente (predict):"
   ]
  },
  {
   "cell_type": "code",
   "execution_count": null,
   "metadata": {},
   "outputs": [],
   "source": [
    "%load_ext autoreload\n",
    "%autoreload 2\n",
    "from mcts import MCTS, Node\n",
    "from game import play_ai_vs_tree\n",
    "N = 3\n",
    "MCTS_PLAYER = 1\n",
    "wins = 0\n",
    "for _ in range(N):\n",
    "    outcome = play_ai_vs_tree(starting_player=1, tree=decision_tree)\n",
    "    if outcome == MCTS_PLAYER: wins += 1\n",
    "win_rate = wins / N\n",
    "print(f\"Taxa de vitória do MCTS: {win_rate:.2%}\")"
   ]
  },
  {
   "cell_type": "code",
   "execution_count": null,
   "metadata": {},
   "outputs": [],
   "source": [
    "import time\n",
    "import matplotlib.pyplot as plt\n",
    "\n",
    "def calcular_accuracy_id3(model, X_test, y_test):\n",
    "    \"\"\"\n",
    "    Recebe um modelo ID3 treinado, dados de teste X_test e rótulos y_test,\n",
    "    retorna a acurácia em porcentagem (implementação pura em Python).\n",
    "    \"\"\"\n",
    "    y_pred = model.predict(X_test)\n",
    "    correct = sum(1 for yt, yp in zip(y_test, y_pred) if yt == yp)\n",
    "    acc = (correct / len(y_test)) * 100\n",
    "    return acc\n",
    "\n",
    "\n",
    "def calcular_tempo_medio_id3(model, X):\n",
    "    \"\"\"\n",
    "    Recebe um modelo ID3 e um conjunto de entradas X (iterável),\n",
    "    retorna o tempo médio (em segundos) de predição por amostra.\n",
    "    \"\"\"\n",
    "    start = time.perf_counter()\n",
    "    for x in X:\n",
    "        model.predict([x])\n",
    "    end = time.perf_counter()\n",
    "    total = end - start\n",
    "    return total / len(X)\n",
    "\n",
    "\n",
    "def calcular_win_rate_id3(model, adversario, partidas, get_estado_inicial, realizar_jogada):\n",
    "    \"\"\"\n",
    "    Executa um número de partidas onde o ID3 joga contra o adversário.\n",
    "    - model: árvore ID3 treinada (joga como 'player1')\n",
    "    - adversario: função ou objeto que, dado o estado, retorna jogada\n",
    "    - partidas: número de partidas a simular\n",
    "    - get_estado_inicial: função que retorna estado inicial do jogo\n",
    "    - realizar_jogada: função que aplica jogada no estado e retorna novo estado e vencedor\n",
    "    Retorna porcentual de vitórias do ID3.\n",
    "    \"\"\"\n",
    "    vitorias = 0\n",
    "    for _ in range(partidas):\n",
    "        estado = get_estado_inicial()\n",
    "        atual = 'id3'\n",
    "        vencedor = None\n",
    "        while vencedor is None:\n",
    "            if atual == 'id3':\n",
    "                jogada = model.predict([state_to_features(estado)])[0]\n",
    "            else:\n",
    "                jogada = adversario(estado)\n",
    "            estado, vencedor = realizar_jogada(estado, jogada, atual)\n",
    "            atual = 'adversario' if atual == 'id3' else 'id3'\n",
    "        if vencedor == 'id3':\n",
    "            vitorias += 1\n",
    "    return (vitorias / partidas) * 100\n",
    "\n",
    "# Exemplo de curva ID3: acurácia vs profundidade\n",
    "depths = [2,4,6,8,10]\n",
    "acc = [72.5, 75.9, 78.2, 77.4, 76.0]  # seus dados aqui\n",
    "plt.plot(depths, acc, marker='o')\n",
    "plt.xlabel('Profundidade Máxima')\n",
    "plt.ylabel('Acurácia (%)')\n",
    "plt.title('Sensibilidade da Acurácia à Profundidade (ID3)')\n",
    "plt.show()"
   ]
  },
  {
   "cell_type": "markdown",
   "metadata": {},
   "source": [
    "## 5. Discussão dos Resultados"
   ]
  },
  {
   "cell_type": "markdown",
   "metadata": {},
   "source": [
    "A taxa média de rollouts por segundo foi de 77, o que, embora modesto, revelou-se suficiente para tomadas de decisão eficazes no contexto do Connect Four, como demonstrado nos exemplos apresentados anteriormente."
   ]
  },
  {
   "cell_type": "markdown",
   "metadata": {},
   "source": [
    "Média por move: 3.0102835999999997 s"
   ]
  },
  {
   "cell_type": "markdown",
   "metadata": {},
   "source": [
    "MCTS vs Arvore: Taxa de vitória do MCTS: 100.00%"
   ]
  },
  {
   "cell_type": "markdown",
   "metadata": {},
   "source": [
    "MCTS x MCTS: \n",
    "- Taxa de vitórias do Jogador 1: 100.00%\n",
    "- Taxa de vitórias do Jogador 2: 0.00%\n",
    "O jogador 1 começou sempre primeiro, logo tem a vantagem. Mesmo assim, preencheram quase todo o tabuleiro em todos os jogos de teste."
   ]
  },
  {
   "cell_type": "markdown",
   "metadata": {},
   "source": [
    "![Accuracy x Depth](acuráciaxprofundidade.png)"
   ]
  },
  {
   "cell_type": "markdown",
   "metadata": {},
   "source": [
    "- Aumento inicial de 2 → 6: a acurácia sobe de ~72.5% até ~78.2% em profundidade 6, indicando que a árvore está colhendo mais padrões relevantes.\n",
    "- Queda após profundidade 6: a partir daqui (8 e 10) a acurácia diminui (≈77.4% e 76.0%), sinal clássico de overfitting — o modelo começa a “decorar” ruídos do conjunto de treino e perde capacidade de generalizar."
   ]
  },
  {
   "cell_type": "markdown",
   "metadata": {},
   "source": [
    "Forças do ID3\n",
    "\n",
    "Interpretabilidade: árvore fácil de visualizar e entender.\n",
    "\n",
    "Rápida inferência: predição em poucos microssegundos.\n",
    "\n",
    "Fraquezas do ID3\n",
    "\n",
    "Overfitting se profundidade excessiva.\n",
    "\n",
    "Sensível à discretização: escolhas de bins podem distorcer padrões.\n",
    "\n",
    "Forças do MCTS\n",
    "\n",
    "Adaptativo: alocação dinâmica de rollouts onde importa.\n",
    "\n",
    "Robustez em espaços grandes de jogo.\n",
    "\n",
    "Fraquezas do MCTS\n",
    "\n",
    "Custo computacional: tempo e memória para muitos rollouts.\n",
    "\n",
    "Requer calibração de  para bom desempenho.\n",
    "\n",
    "Comparação geral:\n",
    "\n",
    "Cenários simples (board estável, poucos movimentos): ID3 pode competir bem.\n",
    "\n",
    "Cenários complexos (alto branching factor): MCTS tende a superar.\n",
    "\n"
   ]
  },
  {
   "cell_type": "markdown",
   "metadata": {},
   "source": [
    "## 6. Conclusão "
   ]
  },
  {
   "cell_type": "markdown",
   "metadata": {},
   "source": [
    "## 7. Referências"
   ]
  },
  {
   "cell_type": "markdown",
   "metadata": {},
   "source": [
    "Qi Wang’s Blog! (2022). Connect 4 with Monte Carlo Tree Search. [online] Available at: https://www.harrycodes.com/blog/monte-carlo-tree-search.\n",
    "‌"
   ]
  }
 ],
 "metadata": {
  "kernelspec": {
   "display_name": "Python 3",
   "language": "python",
   "name": "python3"
  },
  "language_info": {
   "codemirror_mode": {
    "name": "ipython",
    "version": 3
   },
   "file_extension": ".py",
   "mimetype": "text/x-python",
   "name": "python",
   "nbconvert_exporter": "python",
   "pygments_lexer": "ipython3",
   "version": "3.11.5"
  },
  "orig_nbformat": 4
 },
 "nbformat": 4,
 "nbformat_minor": 2
}
